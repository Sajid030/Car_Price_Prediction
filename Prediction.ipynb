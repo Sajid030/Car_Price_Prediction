{
  "cells": [
    {
      "cell_type": "markdown",
      "id": "b2015d92",
      "metadata": {
        "id": "b2015d92"
      },
      "source": [
        "# Car Price Prediction"
      ]
    },
    {
      "cell_type": "code",
      "execution_count": 1,
      "id": "ab222a83",
      "metadata": {
        "id": "ab222a83"
      },
      "outputs": [],
      "source": [
        "import numpy as np\n",
        "import pandas as pd\n",
        "import matplotlib.pyplot as plt\n",
        "import seaborn as sns\n",
        "import warnings\n",
        "warnings.simplefilter(action='ignore')"
      ]
    },
    {
      "cell_type": "markdown",
      "id": "12539814",
      "metadata": {
        "id": "12539814"
      },
      "source": [
        "## Importing dataset\n",
        "1. Since data is in form of csv file we have to use pandas read_csv to load the data\n",
        "2. Check whether any null values are there or not. if it is present then following can be done,\n",
        "   Imputing data using Imputation method in sklearn\n",
        "   Filling NaN values with mean, median and mode using fillna() method\n",
        "3. Describe data --> which can give statistical analysis"
      ]
    },
    {
      "cell_type": "code",
      "execution_count": 2,
      "id": "75acbd09",
      "metadata": {
        "colab": {
          "base_uri": "https://localhost:8080/",
          "height": 468
        },
        "id": "75acbd09",
        "outputId": "038c357c-72b3-42a1-9bb9-6e952bc4ea9d"
      },
      "outputs": [
        {
          "output_type": "stream",
          "name": "stdout",
          "text": [
            "Shape: (2059, 20)\n"
          ]
        },
        {
          "output_type": "execute_result",
          "data": {
            "text/plain": [
              "            Make                 Model   Price  Year  Kilometer Fuel Type  \\\n",
              "0          Honda   Amaze 1.2 VX i-VTEC  505000  2017      87150    Petrol   \n",
              "1  Maruti Suzuki       Swift DZire VDI  450000  2014      75000    Diesel   \n",
              "2        Hyundai  i10 Magna 1.2 Kappa2  220000  2011      67000    Petrol   \n",
              "\n",
              "  Transmission  Location   Color   Owner Seller Type   Engine  \\\n",
              "0       Manual      Pune    Grey   First   Corporate  1198 cc   \n",
              "1       Manual  Ludhiana   White  Second  Individual  1248 cc   \n",
              "2       Manual   Lucknow  Maroon   First  Individual  1197 cc   \n",
              "\n",
              "           Max Power              Max Torque Drivetrain  Length   Width  \\\n",
              "0  87 bhp @ 6000 rpm       109 Nm @ 4500 rpm        FWD  3990.0  1680.0   \n",
              "1  74 bhp @ 4000 rpm       190 Nm @ 2000 rpm        FWD  3995.0  1695.0   \n",
              "2  79 bhp @ 6000 rpm  112.7619 Nm @ 4000 rpm        FWD  3585.0  1595.0   \n",
              "\n",
              "   Height  Seating Capacity  Fuel Tank Capacity  \n",
              "0  1505.0               5.0                35.0  \n",
              "1  1555.0               5.0                42.0  \n",
              "2  1550.0               5.0                35.0  "
            ],
            "text/html": [
              "\n",
              "  <div id=\"df-b07b5f16-f33c-43fb-9f25-1139215e0b75\">\n",
              "    <div class=\"colab-df-container\">\n",
              "      <div>\n",
              "<style scoped>\n",
              "    .dataframe tbody tr th:only-of-type {\n",
              "        vertical-align: middle;\n",
              "    }\n",
              "\n",
              "    .dataframe tbody tr th {\n",
              "        vertical-align: top;\n",
              "    }\n",
              "\n",
              "    .dataframe thead th {\n",
              "        text-align: right;\n",
              "    }\n",
              "</style>\n",
              "<table border=\"1\" class=\"dataframe\">\n",
              "  <thead>\n",
              "    <tr style=\"text-align: right;\">\n",
              "      <th></th>\n",
              "      <th>Make</th>\n",
              "      <th>Model</th>\n",
              "      <th>Price</th>\n",
              "      <th>Year</th>\n",
              "      <th>Kilometer</th>\n",
              "      <th>Fuel Type</th>\n",
              "      <th>Transmission</th>\n",
              "      <th>Location</th>\n",
              "      <th>Color</th>\n",
              "      <th>Owner</th>\n",
              "      <th>Seller Type</th>\n",
              "      <th>Engine</th>\n",
              "      <th>Max Power</th>\n",
              "      <th>Max Torque</th>\n",
              "      <th>Drivetrain</th>\n",
              "      <th>Length</th>\n",
              "      <th>Width</th>\n",
              "      <th>Height</th>\n",
              "      <th>Seating Capacity</th>\n",
              "      <th>Fuel Tank Capacity</th>\n",
              "    </tr>\n",
              "  </thead>\n",
              "  <tbody>\n",
              "    <tr>\n",
              "      <th>0</th>\n",
              "      <td>Honda</td>\n",
              "      <td>Amaze 1.2 VX i-VTEC</td>\n",
              "      <td>505000</td>\n",
              "      <td>2017</td>\n",
              "      <td>87150</td>\n",
              "      <td>Petrol</td>\n",
              "      <td>Manual</td>\n",
              "      <td>Pune</td>\n",
              "      <td>Grey</td>\n",
              "      <td>First</td>\n",
              "      <td>Corporate</td>\n",
              "      <td>1198 cc</td>\n",
              "      <td>87 bhp @ 6000 rpm</td>\n",
              "      <td>109 Nm @ 4500 rpm</td>\n",
              "      <td>FWD</td>\n",
              "      <td>3990.0</td>\n",
              "      <td>1680.0</td>\n",
              "      <td>1505.0</td>\n",
              "      <td>5.0</td>\n",
              "      <td>35.0</td>\n",
              "    </tr>\n",
              "    <tr>\n",
              "      <th>1</th>\n",
              "      <td>Maruti Suzuki</td>\n",
              "      <td>Swift DZire VDI</td>\n",
              "      <td>450000</td>\n",
              "      <td>2014</td>\n",
              "      <td>75000</td>\n",
              "      <td>Diesel</td>\n",
              "      <td>Manual</td>\n",
              "      <td>Ludhiana</td>\n",
              "      <td>White</td>\n",
              "      <td>Second</td>\n",
              "      <td>Individual</td>\n",
              "      <td>1248 cc</td>\n",
              "      <td>74 bhp @ 4000 rpm</td>\n",
              "      <td>190 Nm @ 2000 rpm</td>\n",
              "      <td>FWD</td>\n",
              "      <td>3995.0</td>\n",
              "      <td>1695.0</td>\n",
              "      <td>1555.0</td>\n",
              "      <td>5.0</td>\n",
              "      <td>42.0</td>\n",
              "    </tr>\n",
              "    <tr>\n",
              "      <th>2</th>\n",
              "      <td>Hyundai</td>\n",
              "      <td>i10 Magna 1.2 Kappa2</td>\n",
              "      <td>220000</td>\n",
              "      <td>2011</td>\n",
              "      <td>67000</td>\n",
              "      <td>Petrol</td>\n",
              "      <td>Manual</td>\n",
              "      <td>Lucknow</td>\n",
              "      <td>Maroon</td>\n",
              "      <td>First</td>\n",
              "      <td>Individual</td>\n",
              "      <td>1197 cc</td>\n",
              "      <td>79 bhp @ 6000 rpm</td>\n",
              "      <td>112.7619 Nm @ 4000 rpm</td>\n",
              "      <td>FWD</td>\n",
              "      <td>3585.0</td>\n",
              "      <td>1595.0</td>\n",
              "      <td>1550.0</td>\n",
              "      <td>5.0</td>\n",
              "      <td>35.0</td>\n",
              "    </tr>\n",
              "  </tbody>\n",
              "</table>\n",
              "</div>\n",
              "      <button class=\"colab-df-convert\" onclick=\"convertToInteractive('df-b07b5f16-f33c-43fb-9f25-1139215e0b75')\"\n",
              "              title=\"Convert this dataframe to an interactive table.\"\n",
              "              style=\"display:none;\">\n",
              "        \n",
              "  <svg xmlns=\"http://www.w3.org/2000/svg\" height=\"24px\"viewBox=\"0 0 24 24\"\n",
              "       width=\"24px\">\n",
              "    <path d=\"M0 0h24v24H0V0z\" fill=\"none\"/>\n",
              "    <path d=\"M18.56 5.44l.94 2.06.94-2.06 2.06-.94-2.06-.94-.94-2.06-.94 2.06-2.06.94zm-11 1L8.5 8.5l.94-2.06 2.06-.94-2.06-.94L8.5 2.5l-.94 2.06-2.06.94zm10 10l.94 2.06.94-2.06 2.06-.94-2.06-.94-.94-2.06-.94 2.06-2.06.94z\"/><path d=\"M17.41 7.96l-1.37-1.37c-.4-.4-.92-.59-1.43-.59-.52 0-1.04.2-1.43.59L10.3 9.45l-7.72 7.72c-.78.78-.78 2.05 0 2.83L4 21.41c.39.39.9.59 1.41.59.51 0 1.02-.2 1.41-.59l7.78-7.78 2.81-2.81c.8-.78.8-2.07 0-2.86zM5.41 20L4 18.59l7.72-7.72 1.47 1.35L5.41 20z\"/>\n",
              "  </svg>\n",
              "      </button>\n",
              "      \n",
              "  <style>\n",
              "    .colab-df-container {\n",
              "      display:flex;\n",
              "      flex-wrap:wrap;\n",
              "      gap: 12px;\n",
              "    }\n",
              "\n",
              "    .colab-df-convert {\n",
              "      background-color: #E8F0FE;\n",
              "      border: none;\n",
              "      border-radius: 50%;\n",
              "      cursor: pointer;\n",
              "      display: none;\n",
              "      fill: #1967D2;\n",
              "      height: 32px;\n",
              "      padding: 0 0 0 0;\n",
              "      width: 32px;\n",
              "    }\n",
              "\n",
              "    .colab-df-convert:hover {\n",
              "      background-color: #E2EBFA;\n",
              "      box-shadow: 0px 1px 2px rgba(60, 64, 67, 0.3), 0px 1px 3px 1px rgba(60, 64, 67, 0.15);\n",
              "      fill: #174EA6;\n",
              "    }\n",
              "\n",
              "    [theme=dark] .colab-df-convert {\n",
              "      background-color: #3B4455;\n",
              "      fill: #D2E3FC;\n",
              "    }\n",
              "\n",
              "    [theme=dark] .colab-df-convert:hover {\n",
              "      background-color: #434B5C;\n",
              "      box-shadow: 0px 1px 3px 1px rgba(0, 0, 0, 0.15);\n",
              "      filter: drop-shadow(0px 1px 2px rgba(0, 0, 0, 0.3));\n",
              "      fill: #FFFFFF;\n",
              "    }\n",
              "  </style>\n",
              "\n",
              "      <script>\n",
              "        const buttonEl =\n",
              "          document.querySelector('#df-b07b5f16-f33c-43fb-9f25-1139215e0b75 button.colab-df-convert');\n",
              "        buttonEl.style.display =\n",
              "          google.colab.kernel.accessAllowed ? 'block' : 'none';\n",
              "\n",
              "        async function convertToInteractive(key) {\n",
              "          const element = document.querySelector('#df-b07b5f16-f33c-43fb-9f25-1139215e0b75');\n",
              "          const dataTable =\n",
              "            await google.colab.kernel.invokeFunction('convertToInteractive',\n",
              "                                                     [key], {});\n",
              "          if (!dataTable) return;\n",
              "\n",
              "          const docLinkHtml = 'Like what you see? Visit the ' +\n",
              "            '<a target=\"_blank\" href=https://colab.research.google.com/notebooks/data_table.ipynb>data table notebook</a>'\n",
              "            + ' to learn more about interactive tables.';\n",
              "          element.innerHTML = '';\n",
              "          dataTable['output_type'] = 'display_data';\n",
              "          await google.colab.output.renderOutput(dataTable, element);\n",
              "          const docLink = document.createElement('div');\n",
              "          docLink.innerHTML = docLinkHtml;\n",
              "          element.appendChild(docLink);\n",
              "        }\n",
              "      </script>\n",
              "    </div>\n",
              "  </div>\n",
              "  "
            ]
          },
          "metadata": {},
          "execution_count": 2
        }
      ],
      "source": [
        "df=pd.read_csv('car details v4.csv')\n",
        "print(\"Shape:\",df.shape)\n",
        "df.head(3)"
      ]
    },
    {
      "cell_type": "markdown",
      "id": "77e9efcf",
      "metadata": {
        "id": "77e9efcf"
      },
      "source": [
        "## EDA"
      ]
    },
    {
      "cell_type": "code",
      "execution_count": 3,
      "id": "d641259d",
      "metadata": {
        "colab": {
          "base_uri": "https://localhost:8080/"
        },
        "id": "d641259d",
        "outputId": "9942e02d-cca9-4524-92b8-b9b84e3fdf8a"
      },
      "outputs": [
        {
          "output_type": "stream",
          "name": "stdout",
          "text": [
            "<class 'pandas.core.frame.DataFrame'>\n",
            "RangeIndex: 2059 entries, 0 to 2058\n",
            "Data columns (total 20 columns):\n",
            " #   Column              Non-Null Count  Dtype  \n",
            "---  ------              --------------  -----  \n",
            " 0   Make                2059 non-null   object \n",
            " 1   Model               2059 non-null   object \n",
            " 2   Price               2059 non-null   int64  \n",
            " 3   Year                2059 non-null   int64  \n",
            " 4   Kilometer           2059 non-null   int64  \n",
            " 5   Fuel Type           2059 non-null   object \n",
            " 6   Transmission        2059 non-null   object \n",
            " 7   Location            2059 non-null   object \n",
            " 8   Color               2059 non-null   object \n",
            " 9   Owner               2059 non-null   object \n",
            " 10  Seller Type         2059 non-null   object \n",
            " 11  Engine              1979 non-null   object \n",
            " 12  Max Power           1979 non-null   object \n",
            " 13  Max Torque          1979 non-null   object \n",
            " 14  Drivetrain          1923 non-null   object \n",
            " 15  Length              1995 non-null   float64\n",
            " 16  Width               1995 non-null   float64\n",
            " 17  Height              1995 non-null   float64\n",
            " 18  Seating Capacity    1995 non-null   float64\n",
            " 19  Fuel Tank Capacity  1946 non-null   float64\n",
            "dtypes: float64(5), int64(3), object(12)\n",
            "memory usage: 321.8+ KB\n"
          ]
        }
      ],
      "source": [
        "df.info()"
      ]
    },
    {
      "cell_type": "code",
      "execution_count": 4,
      "id": "c5b84ff7",
      "metadata": {
        "scrolled": true,
        "colab": {
          "base_uri": "https://localhost:8080/"
        },
        "id": "c5b84ff7",
        "outputId": "496c2fc8-58b1-4d9a-dc01-5ca8bac7ab0d"
      },
      "outputs": [
        {
          "output_type": "execute_result",
          "data": {
            "text/plain": [
              "Make                    0\n",
              "Model                   0\n",
              "Price                   0\n",
              "Year                    0\n",
              "Kilometer               0\n",
              "Fuel Type               0\n",
              "Transmission            0\n",
              "Location                0\n",
              "Color                   0\n",
              "Owner                   0\n",
              "Seller Type             0\n",
              "Engine                 80\n",
              "Max Power              80\n",
              "Max Torque             80\n",
              "Drivetrain            136\n",
              "Length                 64\n",
              "Width                  64\n",
              "Height                 64\n",
              "Seating Capacity       64\n",
              "Fuel Tank Capacity    113\n",
              "dtype: int64"
            ]
          },
          "metadata": {},
          "execution_count": 4
        }
      ],
      "source": [
        "# Checking if there are any null values\n",
        "df.isnull().sum()"
      ]
    },
    {
      "cell_type": "markdown",
      "id": "a0717cd4",
      "metadata": {
        "id": "a0717cd4"
      },
      "source": [
        "### Handling null values"
      ]
    },
    {
      "cell_type": "code",
      "execution_count": 5,
      "id": "fcc4fc8a",
      "metadata": {
        "id": "fcc4fc8a"
      },
      "outputs": [],
      "source": [
        "# For Engine column\n",
        "df['Engine']=df['Engine'].fillna(df['Engine'].mode()[0])\n",
        "# For Max Power column\n",
        "df['Max Power']=df['Max Power'].fillna(df['Max Power'].mode()[0])\n",
        "# For Max Torque column\n",
        "df['Max Torque']=df['Max Torque'].fillna(df['Max Torque'].mode()[0])\n",
        "# For Drivetrain column\n",
        "df['Drivetrain']=df['Drivetrain'].fillna(df['Drivetrain'].mode()[0])\n",
        "# For Length column\n",
        "df['Length']=df['Length'].fillna(df['Length'].median())\n",
        "# For Width column\n",
        "df['Width']=df['Width'].fillna(df['Width'].median())\n",
        "# For Height column\n",
        "df['Height']=df['Height'].fillna(df['Height'].median())\n",
        "# For Seating Capacity column\n",
        "df['Seating Capacity']=df['Seating Capacity'].fillna(df['Seating Capacity'].mode()[0])\n",
        "# For Fuel Tank Capacity column\n",
        "df['Fuel Tank Capacity']=df['Fuel Tank Capacity'].fillna(df['Fuel Tank Capacity'].mode()[0])"
      ]
    },
    {
      "cell_type": "markdown",
      "id": "af61c272",
      "metadata": {
        "id": "af61c272"
      },
      "source": [
        "### Statistical Analysis"
      ]
    },
    {
      "cell_type": "code",
      "execution_count": 6,
      "id": "14686069",
      "metadata": {
        "scrolled": false,
        "colab": {
          "base_uri": "https://localhost:8080/",
          "height": 578
        },
        "id": "14686069",
        "outputId": "7b04db1e-b237-45a0-8cf4-0d232eee4671"
      },
      "outputs": [
        {
          "output_type": "display_data",
          "data": {
            "text/plain": [
              "<Figure size 1500x500 with 1 Axes>"
            ],
            "image/png": "[encoded data removed]"
          },
          "metadata": {}
        }
      ],
      "source": [
        "# Plotting barplot for Make vs Price\n",
        "plt.figure(figsize=(15,5))\n",
        "plt.title(\"Make vs Price\")\n",
        "sns.barplot(data=df,x='Make',y='Price')\n",
        "plt.xticks(rotation='vertical')\n",
        "plt.show()"
      ]
    },
    {
      "cell_type": "code",
      "execution_count": 7,
      "id": "dcf0fb6a",
      "metadata": {
        "colab": {
          "base_uri": "https://localhost:8080/",
          "height": 564
        },
        "id": "dcf0fb6a",
        "outputId": "c67bd8c5-d5cf-49da-e656-001512497559"
      },
      "outputs": [
        {
          "output_type": "display_data",
          "data": {
            "text/plain": [
              "<Figure size 1500x500 with 1 Axes>"
            ],
            "image/png": "[encoded data removed]"
          },
          "metadata": {}
        }
      ],
      "source": [
        "# Plotting barplot for Fuel Type vs Price\n",
        "plt.figure(figsize=(15,5))\n",
        "plt.title(\"Fuel Type vs Price\")\n",
        "sns.barplot(data=df,x='Fuel Type',y='Price')\n",
        "plt.xticks(rotation='vertical')\n",
        "plt.show()"
      ]
    },
    {
      "cell_type": "code",
      "execution_count": 8,
      "id": "7e3a43b6",
      "metadata": {
        "scrolled": false,
        "colab": {
          "base_uri": "https://localhost:8080/",
          "height": 495
        },
        "id": "7e3a43b6",
        "outputId": "8ae9a9d6-e363-4eda-8cf9-a4ed031f9865"
      },
      "outputs": [
        {
          "output_type": "display_data",
          "data": {
            "text/plain": [
              "<Figure size 1500x500 with 1 Axes>"
            ],
            "image/png": "[encoded data removed]"
          },
          "metadata": {}
        }
      ],
      "source": [
        "# Plotting barplot for Seating Capacity vs Price based on Transmission\n",
        "plt.figure(figsize=(15,5))\n",
        "plt.title(\"Seating Capacity vs Price\")\n",
        "sns.barplot(data=df,x='Seating Capacity',y='Price',hue='Transmission')\n",
        "plt.xticks(rotation='vertical')\n",
        "plt.show()"
      ]
    },
    {
      "cell_type": "code",
      "execution_count": 9,
      "id": "c8d5efc3",
      "metadata": {
        "colab": {
          "base_uri": "https://localhost:8080/",
          "height": 487
        },
        "id": "c8d5efc3",
        "outputId": "1478fad9-c4d4-43a1-f51a-4e796bfca2c3"
      },
      "outputs": [
        {
          "output_type": "display_data",
          "data": {
            "text/plain": [
              "<Figure size 1500x500 with 1 Axes>"
            ],
            "image/png": "[encoded data removed]"
          },
          "metadata": {}
        }
      ],
      "source": [
        "# Plotting countplot for Seller Type\n",
        "plt.figure(figsize=(15,5))\n",
        "plt.title(\"Seller Type vs Price\")\n",
        "sns.countplot(data=df,x='Seller Type',palette='magma')\n",
        "plt.show()"
      ]
    },
    {
      "cell_type": "code",
      "execution_count": 10,
      "id": "70cfe7a5",
      "metadata": {
        "colab": {
          "base_uri": "https://localhost:8080/",
          "height": 487
        },
        "id": "70cfe7a5",
        "outputId": "e431cec1-4919-45cf-d9ad-faa301eb89e6"
      },
      "outputs": [
        {
          "output_type": "display_data",
          "data": {
            "text/plain": [
              "<Figure size 1500x500 with 1 Axes>"
            ],
            "image/png": "[encoded data removed]"
          },
          "metadata": {}
        }
      ],
      "source": [
        "# Plotting countplot for Owner\n",
        "plt.figure(figsize=(15,5))\n",
        "plt.title(\"Owner vs Count\")\n",
        "sns.countplot(data=df,x='Owner')\n",
        "plt.show()"
      ]
    },
    {
      "cell_type": "code",
      "execution_count": 11,
      "id": "42251464",
      "metadata": {
        "colab": {
          "base_uri": "https://localhost:8080/",
          "height": 483
        },
        "id": "42251464",
        "outputId": "edf344c5-77bf-4df3-c0c6-a034184121a7"
      },
      "outputs": [
        {
          "output_type": "execute_result",
          "data": {
            "text/plain": [
              "<Axes: xlabel='Price', ylabel='Density'>"
            ]
          },
          "metadata": {},
          "execution_count": 11
        },
        {
          "output_type": "display_data",
          "data": {
            "text/plain": [
              "<Figure size 640x480 with 1 Axes>"
            ],
            "image/png": "[encoded data removed]"
          },
          "metadata": {}
        }
      ],
      "source": [
        "sns.distplot(df['Price'],kde=True)"
      ]
    },
    {
      "cell_type": "code",
      "execution_count": 12,
      "id": "3a769bb2",
      "metadata": {
        "id": "3a769bb2"
      },
      "outputs": [],
      "source": [
        "# Handling Engine(in cc) column\n",
        "df['Engine']=df['Engine'].str.split(' ',expand=True)[0]\n",
        "df['Engine']=df['Engine'].astype('int64')"
      ]
    },
    {
      "cell_type": "code",
      "execution_count": 13,
      "id": "ca31de64",
      "metadata": {
        "colab": {
          "base_uri": "https://localhost:8080/"
        },
        "id": "ca31de64",
        "outputId": "d7216fbb-a474-4da9-e082-3d957d73a67b"
      },
      "outputs": [
        {
          "output_type": "execute_result",
          "data": {
            "text/plain": [
              "array(['87 bhp @ 6000 rpm', '74 bhp @ 4000 rpm', '79 bhp @ 6000 rpm',\n",
              "       '82 bhp @ 6000 rpm', '148 bhp @ 3400 rpm', '91 bhp @ 6000 rpm',\n",
              "       '181 bhp @ 5500 rpm', '188 bhp @ 4000 rpm', '177 bhp @ 5100 rpm',\n",
              "       '84 bhp @ 3750 rpm', '67 bhp @ 5500 rpm', '103 bhp @ 6000 rpm',\n",
              "       '138 bhp @ 3750 rpm', '103 bhp @ 5000 rpm', '67 bhp @ 6000 rpm',\n",
              "       '47 bhp @ 6000 rpm', '122 bhp @ 6400 rpm', '68 bhp @ 5500 rpm',\n",
              "       '118 bhp @ 6000 rpm', '58 bhp @ 6000 rpm', '85 bhp @ 6000 rpm',\n",
              "       '89 bhp @ 6000 rpm', '126 bhp @ 4000 rpm', '124 bhp @ 6000 rpm',\n",
              "       '89 bhp @ 4000 rpm', '62 bhp @ 5500 rpm', '84 bhp @ 6000 rpm',\n",
              "       '69 bhp @ 4000 rpm', '168 bhp @ 3000 rpm', '203 bhp @ 4200 rpm',\n",
              "       '138 bhp @ 6400 rpm', '177 bhp @ 4200 rpm', '165@5500',\n",
              "       '105 bhp @ 3800 rpm', '83 bhp @ 6000 rpm', '169 bhp @ 3750 rpm',\n",
              "       '101 bhp @ 3600 rpm', '190 bhp @ 4000 rpm', '171 bhp @ 3750 rpm',\n",
              "       '120 bhp @ 4000 rpm', '181 bhp @ 5000 rpm', '117 bhp @ 6600 rpm',\n",
              "       '74 bhp @ 4200 rpm', '73 bhp @ 6000 rpm', '184 bhp @ 4000 rpm',\n",
              "       '174 bhp @ 3400 rpm', '130 bhp @ 6300 rpm', '99 bhp @ 4000 rpm',\n",
              "       '141 bhp @ 3500 rpm', '68 bhp @ 4000 rpm', '74 bhp @ 5400 rpm',\n",
              "       '99 bhp @ 3600 rpm', '179 bhp @ 6000 rpm', '150 bhp @ 5000 rpm',\n",
              "       '207@4200', '184 bhp @ 3500 rpm', '103 bhp @ 5250 rpm',\n",
              "       '170 bhp @ 4200 rpm', '202 bhp @ 5700 rpm', '108 bhp @ 3900 rpm',\n",
              "       '58 bhp @ 6200 rpm', '258 bhp @ 4000 rpm', '335 bhp @ 5300 rpm',\n",
              "       '241 bhp @ 5500 rpm', '121 bhp @ 6300 rpm', '177 bhp @ 3750 rpm',\n",
              "       '115 bhp @ 3750 rpm', '118@6600', '204 bhp @ 4200 rpm',\n",
              "       '169 bhp @ 3600 rpm', '104 bhp @ 5250 rpm', '63@5500',\n",
              "       '168 bhp @ 3750 rpm', '81 bhp @ 6000 rpm', '138 bhp @ 6000 rpm',\n",
              "       '188 bhp @ 4200 rpm', '245 bhp @ 2910 rpm', '67 bhp @ 6200 rpm',\n",
              "       '116@3800', '248 bhp @ 5000 rpm', '105 bhp @ 5600 rpm',\n",
              "       '190 bhp @ 3800 rpm', '121 bhp @ 3500 rpm', '113 bhp @ 4000 rpm',\n",
              "       '192 bhp @ 3800 rpm', '177 bhp @ 4000 rpm', '201 bhp @ 3800 rpm',\n",
              "       '453 bhp @ 5250 rpm', '141 bhp @ 5000 rpm', '108 bhp @ 6000 rpm',\n",
              "       '152@6000', '105 bhp @ 5250 rpm', '103 bhp @ 4400 rpm',\n",
              "       '153 bhp @ 3750 rpm', '134 bhp @ 3600 rpm', '68@6200',\n",
              "       '99 bhp @ 3750 rpm', '241 bhp @ 3800 rpm', '204 bhp @ 3800 rpm',\n",
              "       '75@4000', '102@5600', '174 bhp @ 4200 rpm', '234@3800',\n",
              "       '150 bhp @ 3500 rpm', '186 bhp @ 5600 rpm', '231@3800',\n",
              "       '254 bhp @ 3600 rpm', '109 bhp @ 5000 rpm', '108 bhp @ 5000 rpm',\n",
              "       '104 bhp @ 5200 rpm', '444 bhp @ 8250 rpm', '272 bhp @ 6000 rpm',\n",
              "       '53 bhp @ 5678 rpm', '180 bhp @ 4000 rpm', '140 bhp @ 3750 rpm',\n",
              "       '172 bhp @ 3400 rpm', '275 bhp @ 4000 rpm', '500 bhp @ 6500 rpm',\n",
              "       '171@3600', '58 bhp @ 5500 rpm', '362 bhp @ 5500 rpm',\n",
              "       '296 bhp @ 5500 rpm', '67@6200', '245 bhp @ 4400 rpm',\n",
              "       '130 bhp @ 3750 rpm', '148 bhp @ 4000 rpm', '177@4000',\n",
              "       '174 bhp @ 3600 rpm', '80@5200', '255 bhp @ 3400 rpm', '90@4300',\n",
              "       '47@6200', '325 bhp @ 7400 rpm', '153 bhp @ 6200 rpm',\n",
              "       '282 bhp @ 3600 rpm', '89 bhp @ 6200 rpm', '188 bhp @ 3500 rpm',\n",
              "       '95@3600', '160 bhp @ 5500 rpm', '89 bhp @ 3750 rpm',\n",
              "       '248 bhp @ 5200 rpm', '138 bhp @ 4000 rpm', '262 bhp @ 4000 rpm',\n",
              "       '147 bhp @ 6500 rpm', '87@6000', '90@6000', '119 bhp @ 6600 rpm',\n",
              "       '164 bhp @ 5200 rpm', '208 bhp @ 4300 rpm', '118 bhp @ 5500 rpm',\n",
              "       '181 bhp @ 5800 rpm', '68 bhp @ 6000 rpm', '120@4000', '136@5600',\n",
              "       '67 bhp @ 3800 rpm', '99 bhp @ 5000 rpm', '68 bhp @ 6200 rpm',\n",
              "       '272 bhp @ 6300 rpm', '114 bhp @ 4000 rpm', '113 bhp @ 6300 rpm',\n",
              "       '105 bhp @ 4400 rpm', '118 bhp @ 6600 rpm', '70 bhp @ 6250 rpm',\n",
              "       '204@6100', '463 bhp @ 5250 rpm', '136 bhp @ 3200 rpm',\n",
              "       '71 bhp @ 4000 rpm', '59@6200', '154 bhp @ 4000 rpm', '112 bhp @',\n",
              "       '75 bhp @ 3200 rpm', '295 bhp @ 6500 rpm', '120@5500',\n",
              "       '241 bhp @ 4200 rpm', '100 bhp @ 3750 rpm', '660 bhp @ 8000 rpm',\n",
              "       '141 bhp @ 4000 rpm', '190 bhp @ 3500 rpm', '35@5250',\n",
              "       '176 bhp @ 4000 rpm', '197 bhp @ 3000 rpm', '67 bhp @ 5000 rpm',\n",
              "       '114 bhp @ 6300 rpm', '602 bhp @ 8250 rpm', '55 bhp @ 5500 rpm',\n",
              "       '154 bhp @ 3200 rpm', '182 bhp @ 4000 rpm', '80 bhp @ 5600 rpm',\n",
              "       '118 bhp @ 3750 rpm', '75 bhp @ 6200 rpm', '109 bhp @ 6300 rpm',\n",
              "       '326 bhp @ 3600 rpm', '116 bhp @ 6600 rpm', '258 bhp @ 3600 rpm',\n",
              "       '108 bhp @ 3750 rpm', '122@4000', '215 bhp @ 4000 rpm',\n",
              "       '100 bhp @ 3600 rpm', '368 bhp @ 6300 rpm', '194 bhp @ 5800 rpm',\n",
              "       '244 bhp @ 4000 rpm', '108 bhp @ 4000 rpm', '148 bhp @ 5000 rpm',\n",
              "       '194 bhp @ 5500 rpm', '56@5500', '182 bhp @ 3500 rpm', '171 @3600',\n",
              "       '128 bhp @ 4000 rpm', '335 bhp @ 5200 rpm', '189 bhp @ 5000 rpm',\n",
              "       '76 bhp @ 6000 rpm', '255 bhp @ 3600 rpm', '157 bhp @ 6500 rpm',\n",
              "       '94 bhp @ 6000 rpm', '184 bhp @ 5500 rpm', '201 bhp @ 5800 rpm',\n",
              "       '289 bhp @ 4000 rpm', '170 bhp @ 3800 rpm', '164 bhp @ 3800 rpm',\n",
              "       '142@4000', '79 bhp @ 3600 rpm', '87 bhp @ 6300 rpm',\n",
              "       '94 bhp @ 4000 rpm', '70 bhp @ 3600 rpm', '178 bhp @ 5100 rpm',\n",
              "       '118 bhp @ 4000 rpm', '90 bhp @ 5600 rpm', '245 bhp @ 4000 rpm',\n",
              "       '150@4000', '189 bhp @', '170@3700', '231 bhp @ 3000 rpm',\n",
              "       '85 bhp @ 3750 rpm', '121 bhp @ 6500 rpm', '177 bhp @ 4500 rpm',\n",
              "       '335 bhp @ 6500 rpm', '245 bhp @ 5500 rpm', '68 bhp @ 3600 rpm',\n",
              "       '147 bhp @ 3400 rpm', '272@6000', '64@6200', '218@4000',\n",
              "       '217 bhp @ 4400 rpm', '265 bhp @ 4000 rpm', '87 bhp @ 3800 rpm',\n",
              "       '46 bhp @ 6200 rpm', '132@6000', '241 bhp @ 5000 rpm',\n",
              "       '235 bhp @ 4250 rpm', '168 bhp @ 3500 rpm', '162 bhp @ 4000 rpm',\n",
              "       '100@5500', '71 bhp @ 6250 rpm', '75 bhp @ 4000 rpm',\n",
              "       '241 bhp @ 4000 rpm', '570 bhp @ 5250 rpm', '89 bhp @ 4200 rpm',\n",
              "       '194 bhp @ 3800 rpm', '194 bhp @ 5700 rpm', '114 bhp @ 5000 rpm',\n",
              "       '195 bhp @ 4000 rpm', '105@3800', '396 bhp @ 6500 rpm',\n",
              "       '39 bhp @ 6200 rpm', '158 bhp @ 4500 rpm', '165 bhp @ 3500 rpm',\n",
              "       '349 bhp @ 5400 rpm', '150 bhp @ 6200 rpm', '94 bhp @ 5500 rpm',\n",
              "       '176 bhp @ 5700 rpm', '189 bhp @ 4400 rpm', '72 bhp @ 6000 rpm',\n",
              "       '106 bhp @ 6000 rpm', '237 bhp @ 4000 rpm', '68@4000',\n",
              "       '115 bhp @ 4700 rpm', '271 bhp @ 4000 rpm', '335 bhp @ 5000 rpm',\n",
              "       '260 bhp @ 4000 rpm', '161 bhp @ 5500 rpm', '335 bhp @ 5500 rpm',\n",
              "       '141 bhp @ 4200 rpm', '90@4000', '158 bhp @ 3200 rpm', '69@4000',\n",
              "       '121 bhp @ 6400 rpm', '67@5500', '225 bhp @ 4000 rpm',\n",
              "       '48 bhp @ 6000 rpm', '247 bhp @ 4000 rpm', '98 bhp @ 3600 rpm',\n",
              "       '178 bhp @ 4000 rpm', '197 bhp @ 3800 rpm', '168 bhp @ 3400 rpm',\n",
              "       '137 bhp @ 3750 rpm', '121 bhp @ 5000 rpm', '385 bhp @ 5500 rpm',\n",
              "       '188 bhp @ 3800 rpm', '190 bhp @ 4200 rpm', '63 bhp @ 4000 rpm',\n",
              "       '187 bhp @ 4250 rpm', '109 bhp @ 4000 rpm', '102@5500', '240@4000',\n",
              "       '79 bhp @ 5600 rpm', '63 bhp @ 3200 rpm', '58 bhp @ 4000 rpm',\n",
              "       '187 bhp @ 5000 rpm', '178 bhp @ 6500 rpm', '73 bhp @ 4000 rpm',\n",
              "       '268 bhp @ 5150 rpm', '110 bhp @ 6300 rpm', '227 bhp @ 5500 rpm',\n",
              "       '161 bhp @ 4200 rpm', '67.7 bhp @ 6200 rpm', '190 bhp @ 4250 rpm',\n",
              "       '228 bhp @ 5200 rpm', '232 bhp @ 4250 rpm', '46 bhp @ 3500 rpm',\n",
              "       '58@6000', '235 bhp @ 4000 rpm', '261 bhp @ 4000 rpm',\n",
              "       '362 bhp @ 5250 rpm', '62 bhp @ 5400 rpm', '154 bhp @ 6500 rpm',\n",
              "       '120 bhp @ 5000 rpm', '78@5500', '77 bhp @ 3750 rpm',\n",
              "       '98 bhp @ 6000 rpm', '236 bhp @ 5500 rpm', '198@4000',\n",
              "       '247 bhp @ 5500 rpm', '197 bhp @ 5000 rpm', '70 bhp @ 4000 rpm',\n",
              "       '329 bhp @ 5250 rpm'], dtype=object)"
            ]
          },
          "metadata": {},
          "execution_count": 13
        }
      ],
      "source": [
        "df['Max Power'].unique()"
      ]
    },
    {
      "cell_type": "code",
      "execution_count": 14,
      "id": "233c0ca0",
      "metadata": {
        "scrolled": true,
        "id": "233c0ca0"
      },
      "outputs": [],
      "source": [
        "# Handling Max Power(in bhp) column\n",
        "df['Max Power']=df['Max Power'].str.split('@',expand=True)[0]\n",
        "df['Max Power']=df['Max Power'].str.split(' ',expand=True)[0]\n",
        "df['Max Power']=df['Max Power'].astype('float64')"
      ]
    },
    {
      "cell_type": "code",
      "execution_count": 15,
      "id": "2bf0a09d",
      "metadata": {
        "id": "2bf0a09d"
      },
      "outputs": [],
      "source": [
        "# Dropping columns that are not needed\n",
        "df.drop(['Make','Model','Location','Color','Max Torque','Drivetrain','Length','Width','Height'],axis=1,inplace=True)"
      ]
    },
    {
      "cell_type": "code",
      "execution_count": 16,
      "id": "3dfc3f83",
      "metadata": {
        "scrolled": false,
        "colab": {
          "base_uri": "https://localhost:8080/",
          "height": 952
        },
        "id": "3dfc3f83",
        "outputId": "300440a5-db6c-4280-bd9a-f4606d54acae"
      },
      "outputs": [
        {
          "output_type": "display_data",
          "data": {
            "text/plain": [
              "<Figure size 1000x1000 with 2 Axes>"
            ],
            "image/png": "[encoded data removed]"
          },
          "metadata": {}
        }
      ],
      "source": [
        "# Heat Map \n",
        "plt.figure(figsize = (10,10))\n",
        "sns.heatmap(df.corr(), annot = True, cmap = \"RdYlGn\")\n",
        "plt.show()"
      ]
    },
    {
      "cell_type": "code",
      "execution_count": 17,
      "id": "f91f1555",
      "metadata": {
        "id": "f91f1555"
      },
      "outputs": [],
      "source": [
        "# We can see from heatmap that Kilometer and Seating Capacity are very less correlated to Price\n",
        "df.drop(['Seating Capacity'],axis=1,inplace=True)"
      ]
    },
    {
      "cell_type": "code",
      "execution_count": 18,
      "id": "7a25e473",
      "metadata": {
        "scrolled": true,
        "colab": {
          "base_uri": "https://localhost:8080/",
          "height": 206
        },
        "id": "7a25e473",
        "outputId": "5d96f3cd-b8d2-4204-9751-2aaeb53e9260"
      },
      "outputs": [
        {
          "output_type": "execute_result",
          "data": {
            "text/plain": [
              "     Price  Year  Kilometer Fuel Type Transmission   Owner Seller Type  \\\n",
              "0   505000  2017      87150    Petrol       Manual   First   Corporate   \n",
              "1   450000  2014      75000    Diesel       Manual  Second  Individual   \n",
              "2   220000  2011      67000    Petrol       Manual   First  Individual   \n",
              "3   799000  2019      37500    Petrol       Manual   First  Individual   \n",
              "4  1950000  2018      69000    Diesel       Manual   First  Individual   \n",
              "\n",
              "   Engine  Max Power  Fuel Tank Capacity  \n",
              "0    1198       87.0                35.0  \n",
              "1    1248       74.0                42.0  \n",
              "2    1197       79.0                35.0  \n",
              "3    1197       82.0                37.0  \n",
              "4    2393      148.0                55.0  "
            ],
            "text/html": [
              "\n",
              "  <div id=\"df-86584cae-2aa2-4605-9cdc-00bf2b89d3d6\">\n",
              "    <div class=\"colab-df-container\">\n",
              "      <div>\n",
              "<style scoped>\n",
              "    .dataframe tbody tr th:only-of-type {\n",
              "        vertical-align: middle;\n",
              "    }\n",
              "\n",
              "    .dataframe tbody tr th {\n",
              "        vertical-align: top;\n",
              "    }\n",
              "\n",
              "    .dataframe thead th {\n",
              "        text-align: right;\n",
              "    }\n",
              "</style>\n",
              "<table border=\"1\" class=\"dataframe\">\n",
              "  <thead>\n",
              "    <tr style=\"text-align: right;\">\n",
              "      <th></th>\n",
              "      <th>Price</th>\n",
              "      <th>Year</th>\n",
              "      <th>Kilometer</th>\n",
              "      <th>Fuel Type</th>\n",
              "      <th>Transmission</th>\n",
              "      <th>Owner</th>\n",
              "      <th>Seller Type</th>\n",
              "      <th>Engine</th>\n",
              "      <th>Max Power</th>\n",
              "      <th>Fuel Tank Capacity</th>\n",
              "    </tr>\n",
              "  </thead>\n",
              "  <tbody>\n",
              "    <tr>\n",
              "      <th>0</th>\n",
              "      <td>505000</td>\n",
              "      <td>2017</td>\n",
              "      <td>87150</td>\n",
              "      <td>Petrol</td>\n",
              "      <td>Manual</td>\n",
              "      <td>First</td>\n",
              "      <td>Corporate</td>\n",
              "      <td>1198</td>\n",
              "      <td>87.0</td>\n",
              "      <td>35.0</td>\n",
              "    </tr>\n",
              "    <tr>\n",
              "      <th>1</th>\n",
              "      <td>450000</td>\n",
              "      <td>2014</td>\n",
              "      <td>75000</td>\n",
              "      <td>Diesel</td>\n",
              "      <td>Manual</td>\n",
              "      <td>Second</td>\n",
              "      <td>Individual</td>\n",
              "      <td>1248</td>\n",
              "      <td>74.0</td>\n",
              "      <td>42.0</td>\n",
              "    </tr>\n",
              "    <tr>\n",
              "      <th>2</th>\n",
              "      <td>220000</td>\n",
              "      <td>2011</td>\n",
              "      <td>67000</td>\n",
              "      <td>Petrol</td>\n",
              "      <td>Manual</td>\n",
              "      <td>First</td>\n",
              "      <td>Individual</td>\n",
              "      <td>1197</td>\n",
              "      <td>79.0</td>\n",
              "      <td>35.0</td>\n",
              "    </tr>\n",
              "    <tr>\n",
              "      <th>3</th>\n",
              "      <td>799000</td>\n",
              "      <td>2019</td>\n",
              "      <td>37500</td>\n",
              "      <td>Petrol</td>\n",
              "      <td>Manual</td>\n",
              "      <td>First</td>\n",
              "      <td>Individual</td>\n",
              "      <td>1197</td>\n",
              "      <td>82.0</td>\n",
              "      <td>37.0</td>\n",
              "    </tr>\n",
              "    <tr>\n",
              "      <th>4</th>\n",
              "      <td>1950000</td>\n",
              "      <td>2018</td>\n",
              "      <td>69000</td>\n",
              "      <td>Diesel</td>\n",
              "      <td>Manual</td>\n",
              "      <td>First</td>\n",
              "      <td>Individual</td>\n",
              "      <td>2393</td>\n",
              "      <td>148.0</td>\n",
              "      <td>55.0</td>\n",
              "    </tr>\n",
              "  </tbody>\n",
              "</table>\n",
              "</div>\n",
              "      <button class=\"colab-df-convert\" onclick=\"convertToInteractive('df-86584cae-2aa2-4605-9cdc-00bf2b89d3d6')\"\n",
              "              title=\"Convert this dataframe to an interactive table.\"\n",
              "              style=\"display:none;\">\n",
              "        \n",
              "  <svg xmlns=\"http://www.w3.org/2000/svg\" height=\"24px\"viewBox=\"0 0 24 24\"\n",
              "       width=\"24px\">\n",
              "    <path d=\"M0 0h24v24H0V0z\" fill=\"none\"/>\n",
              "    <path d=\"M18.56 5.44l.94 2.06.94-2.06 2.06-.94-2.06-.94-.94-2.06-.94 2.06-2.06.94zm-11 1L8.5 8.5l.94-2.06 2.06-.94-2.06-.94L8.5 2.5l-.94 2.06-2.06.94zm10 10l.94 2.06.94-2.06 2.06-.94-2.06-.94-.94-2.06-.94 2.06-2.06.94z\"/><path d=\"M17.41 7.96l-1.37-1.37c-.4-.4-.92-.59-1.43-.59-.52 0-1.04.2-1.43.59L10.3 9.45l-7.72 7.72c-.78.78-.78 2.05 0 2.83L4 21.41c.39.39.9.59 1.41.59.51 0 1.02-.2 1.41-.59l7.78-7.78 2.81-2.81c.8-.78.8-2.07 0-2.86zM5.41 20L4 18.59l7.72-7.72 1.47 1.35L5.41 20z\"/>\n",
              "  </svg>\n",
              "      </button>\n",
              "      \n",
              "  <style>\n",
              "    .colab-df-container {\n",
              "      display:flex;\n",
              "      flex-wrap:wrap;\n",
              "      gap: 12px;\n",
              "    }\n",
              "\n",
              "    .colab-df-convert {\n",
              "      background-color: #E8F0FE;\n",
              "      border: none;\n",
              "      border-radius: 50%;\n",
              "      cursor: pointer;\n",
              "      display: none;\n",
              "      fill: #1967D2;\n",
              "      height: 32px;\n",
              "      padding: 0 0 0 0;\n",
              "      width: 32px;\n",
              "    }\n",
              "\n",
              "    .colab-df-convert:hover {\n",
              "      background-color: #E2EBFA;\n",
              "      box-shadow: 0px 1px 2px rgba(60, 64, 67, 0.3), 0px 1px 3px 1px rgba(60, 64, 67, 0.15);\n",
              "      fill: #174EA6;\n",
              "    }\n",
              "\n",
              "    [theme=dark] .colab-df-convert {\n",
              "      background-color: #3B4455;\n",
              "      fill: #D2E3FC;\n",
              "    }\n",
              "\n",
              "    [theme=dark] .colab-df-convert:hover {\n",
              "      background-color: #434B5C;\n",
              "      box-shadow: 0px 1px 3px 1px rgba(0, 0, 0, 0.15);\n",
              "      filter: drop-shadow(0px 1px 2px rgba(0, 0, 0, 0.3));\n",
              "      fill: #FFFFFF;\n",
              "    }\n",
              "  </style>\n",
              "\n",
              "      <script>\n",
              "        const buttonEl =\n",
              "          document.querySelector('#df-86584cae-2aa2-4605-9cdc-00bf2b89d3d6 button.colab-df-convert');\n",
              "        buttonEl.style.display =\n",
              "          google.colab.kernel.accessAllowed ? 'block' : 'none';\n",
              "\n",
              "        async function convertToInteractive(key) {\n",
              "          const element = document.querySelector('#df-86584cae-2aa2-4605-9cdc-00bf2b89d3d6');\n",
              "          const dataTable =\n",
              "            await google.colab.kernel.invokeFunction('convertToInteractive',\n",
              "                                                     [key], {});\n",
              "          if (!dataTable) return;\n",
              "\n",
              "          const docLinkHtml = 'Like what you see? Visit the ' +\n",
              "            '<a target=\"_blank\" href=https://colab.research.google.com/notebooks/data_table.ipynb>data table notebook</a>'\n",
              "            + ' to learn more about interactive tables.';\n",
              "          element.innerHTML = '';\n",
              "          dataTable['output_type'] = 'display_data';\n",
              "          await google.colab.output.renderOutput(dataTable, element);\n",
              "          const docLink = document.createElement('div');\n",
              "          docLink.innerHTML = docLinkHtml;\n",
              "          element.appendChild(docLink);\n",
              "        }\n",
              "      </script>\n",
              "    </div>\n",
              "  </div>\n",
              "  "
            ]
          },
          "metadata": {},
          "execution_count": 18
        }
      ],
      "source": [
        "df.head()"
      ]
    },
    {
      "cell_type": "code",
      "execution_count": 19,
      "id": "b1b9486d",
      "metadata": {
        "id": "b1b9486d"
      },
      "outputs": [],
      "source": [
        "# remove special character(whitespaces)\n",
        "df.columns = df.columns.str.replace(' ', '_')"
      ]
    },
    {
      "cell_type": "code",
      "execution_count": 20,
      "id": "e020ef43",
      "metadata": {
        "scrolled": true,
        "colab": {
          "base_uri": "https://localhost:8080/",
          "height": 206
        },
        "id": "e020ef43",
        "outputId": "f2e66c8b-e2c9-4c81-b46f-b52b8a3f02f4"
      },
      "outputs": [
        {
          "output_type": "execute_result",
          "data": {
            "text/plain": [
              "     Price  Year  Kilometer Fuel_Type Transmission   Owner Seller_Type  \\\n",
              "0   505000  2017      87150    Petrol       Manual   First   Corporate   \n",
              "1   450000  2014      75000    Diesel       Manual  Second  Individual   \n",
              "2   220000  2011      67000    Petrol       Manual   First  Individual   \n",
              "3   799000  2019      37500    Petrol       Manual   First  Individual   \n",
              "4  1950000  2018      69000    Diesel       Manual   First  Individual   \n",
              "\n",
              "   Engine  Max_Power  Fuel_Tank_Capacity  \n",
              "0    1198       87.0                35.0  \n",
              "1    1248       74.0                42.0  \n",
              "2    1197       79.0                35.0  \n",
              "3    1197       82.0                37.0  \n",
              "4    2393      148.0                55.0  "
            ],
            "text/html": [
              "\n",
              "  <div id=\"df-0353c4c5-0190-4ea3-928c-4074918ce8d2\">\n",
              "    <div class=\"colab-df-container\">\n",
              "      <div>\n",
              "<style scoped>\n",
              "    .dataframe tbody tr th:only-of-type {\n",
              "        vertical-align: middle;\n",
              "    }\n",
              "\n",
              "    .dataframe tbody tr th {\n",
              "        vertical-align: top;\n",
              "    }\n",
              "\n",
              "    .dataframe thead th {\n",
              "        text-align: right;\n",
              "    }\n",
              "</style>\n",
              "<table border=\"1\" class=\"dataframe\">\n",
              "  <thead>\n",
              "    <tr style=\"text-align: right;\">\n",
              "      <th></th>\n",
              "      <th>Price</th>\n",
              "      <th>Year</th>\n",
              "      <th>Kilometer</th>\n",
              "      <th>Fuel_Type</th>\n",
              "      <th>Transmission</th>\n",
              "      <th>Owner</th>\n",
              "      <th>Seller_Type</th>\n",
              "      <th>Engine</th>\n",
              "      <th>Max_Power</th>\n",
              "      <th>Fuel_Tank_Capacity</th>\n",
              "    </tr>\n",
              "  </thead>\n",
              "  <tbody>\n",
              "    <tr>\n",
              "      <th>0</th>\n",
              "      <td>505000</td>\n",
              "      <td>2017</td>\n",
              "      <td>87150</td>\n",
              "      <td>Petrol</td>\n",
              "      <td>Manual</td>\n",
              "      <td>First</td>\n",
              "      <td>Corporate</td>\n",
              "      <td>1198</td>\n",
              "      <td>87.0</td>\n",
              "      <td>35.0</td>\n",
              "    </tr>\n",
              "    <tr>\n",
              "      <th>1</th>\n",
              "      <td>450000</td>\n",
              "      <td>2014</td>\n",
              "      <td>75000</td>\n",
              "      <td>Diesel</td>\n",
              "      <td>Manual</td>\n",
              "      <td>Second</td>\n",
              "      <td>Individual</td>\n",
              "      <td>1248</td>\n",
              "      <td>74.0</td>\n",
              "      <td>42.0</td>\n",
              "    </tr>\n",
              "    <tr>\n",
              "      <th>2</th>\n",
              "      <td>220000</td>\n",
              "      <td>2011</td>\n",
              "      <td>67000</td>\n",
              "      <td>Petrol</td>\n",
              "      <td>Manual</td>\n",
              "      <td>First</td>\n",
              "      <td>Individual</td>\n",
              "      <td>1197</td>\n",
              "      <td>79.0</td>\n",
              "      <td>35.0</td>\n",
              "    </tr>\n",
              "    <tr>\n",
              "      <th>3</th>\n",
              "      <td>799000</td>\n",
              "      <td>2019</td>\n",
              "      <td>37500</td>\n",
              "      <td>Petrol</td>\n",
              "      <td>Manual</td>\n",
              "      <td>First</td>\n",
              "      <td>Individual</td>\n",
              "      <td>1197</td>\n",
              "      <td>82.0</td>\n",
              "      <td>37.0</td>\n",
              "    </tr>\n",
              "    <tr>\n",
              "      <th>4</th>\n",
              "      <td>1950000</td>\n",
              "      <td>2018</td>\n",
              "      <td>69000</td>\n",
              "      <td>Diesel</td>\n",
              "      <td>Manual</td>\n",
              "      <td>First</td>\n",
              "      <td>Individual</td>\n",
              "      <td>2393</td>\n",
              "      <td>148.0</td>\n",
              "      <td>55.0</td>\n",
              "    </tr>\n",
              "  </tbody>\n",
              "</table>\n",
              "</div>\n",
              "      <button class=\"colab-df-convert\" onclick=\"convertToInteractive('df-0353c4c5-0190-4ea3-928c-4074918ce8d2')\"\n",
              "              title=\"Convert this dataframe to an interactive table.\"\n",
              "              style=\"display:none;\">\n",
              "        \n",
              "  <svg xmlns=\"http://www.w3.org/2000/svg\" height=\"24px\"viewBox=\"0 0 24 24\"\n",
              "       width=\"24px\">\n",
              "    <path d=\"M0 0h24v24H0V0z\" fill=\"none\"/>\n",
              "    <path d=\"M18.56 5.44l.94 2.06.94-2.06 2.06-.94-2.06-.94-.94-2.06-.94 2.06-2.06.94zm-11 1L8.5 8.5l.94-2.06 2.06-.94-2.06-.94L8.5 2.5l-.94 2.06-2.06.94zm10 10l.94 2.06.94-2.06 2.06-.94-2.06-.94-.94-2.06-.94 2.06-2.06.94z\"/><path d=\"M17.41 7.96l-1.37-1.37c-.4-.4-.92-.59-1.43-.59-.52 0-1.04.2-1.43.59L10.3 9.45l-7.72 7.72c-.78.78-.78 2.05 0 2.83L4 21.41c.39.39.9.59 1.41.59.51 0 1.02-.2 1.41-.59l7.78-7.78 2.81-2.81c.8-.78.8-2.07 0-2.86zM5.41 20L4 18.59l7.72-7.72 1.47 1.35L5.41 20z\"/>\n",
              "  </svg>\n",
              "      </button>\n",
              "      \n",
              "  <style>\n",
              "    .colab-df-container {\n",
              "      display:flex;\n",
              "      flex-wrap:wrap;\n",
              "      gap: 12px;\n",
              "    }\n",
              "\n",
              "    .colab-df-convert {\n",
              "      background-color: #E8F0FE;\n",
              "      border: none;\n",
              "      border-radius: 50%;\n",
              "      cursor: pointer;\n",
              "      display: none;\n",
              "      fill: #1967D2;\n",
              "      height: 32px;\n",
              "      padding: 0 0 0 0;\n",
              "      width: 32px;\n",
              "    }\n",
              "\n",
              "    .colab-df-convert:hover {\n",
              "      background-color: #E2EBFA;\n",
              "      box-shadow: 0px 1px 2px rgba(60, 64, 67, 0.3), 0px 1px 3px 1px rgba(60, 64, 67, 0.15);\n",
              "      fill: #174EA6;\n",
              "    }\n",
              "\n",
              "    [theme=dark] .colab-df-convert {\n",
              "      background-color: #3B4455;\n",
              "      fill: #D2E3FC;\n",
              "    }\n",
              "\n",
              "    [theme=dark] .colab-df-convert:hover {\n",
              "      background-color: #434B5C;\n",
              "      box-shadow: 0px 1px 3px 1px rgba(0, 0, 0, 0.15);\n",
              "      filter: drop-shadow(0px 1px 2px rgba(0, 0, 0, 0.3));\n",
              "      fill: #FFFFFF;\n",
              "    }\n",
              "  </style>\n",
              "\n",
              "      <script>\n",
              "        const buttonEl =\n",
              "          document.querySelector('#df-0353c4c5-0190-4ea3-928c-4074918ce8d2 button.colab-df-convert');\n",
              "        buttonEl.style.display =\n",
              "          google.colab.kernel.accessAllowed ? 'block' : 'none';\n",
              "\n",
              "        async function convertToInteractive(key) {\n",
              "          const element = document.querySelector('#df-0353c4c5-0190-4ea3-928c-4074918ce8d2');\n",
              "          const dataTable =\n",
              "            await google.colab.kernel.invokeFunction('convertToInteractive',\n",
              "                                                     [key], {});\n",
              "          if (!dataTable) return;\n",
              "\n",
              "          const docLinkHtml = 'Like what you see? Visit the ' +\n",
              "            '<a target=\"_blank\" href=https://colab.research.google.com/notebooks/data_table.ipynb>data table notebook</a>'\n",
              "            + ' to learn more about interactive tables.';\n",
              "          element.innerHTML = '';\n",
              "          dataTable['output_type'] = 'display_data';\n",
              "          await google.colab.output.renderOutput(dataTable, element);\n",
              "          const docLink = document.createElement('div');\n",
              "          docLink.innerHTML = docLinkHtml;\n",
              "          element.appendChild(docLink);\n",
              "        }\n",
              "      </script>\n",
              "    </div>\n",
              "  </div>\n",
              "  "
            ]
          },
          "metadata": {},
          "execution_count": 20
        }
      ],
      "source": [
        "df.head()"
      ]
    },
    {
      "cell_type": "code",
      "execution_count": 21,
      "id": "4a89e91c",
      "metadata": {
        "id": "4a89e91c"
      },
      "outputs": [],
      "source": [
        "# Handling spaces in Fuel_Type column\n",
        "df['Fuel_Type']=df['Fuel_Type'].str.replace('+','')\n",
        "df['Fuel_Type']=df['Fuel_Type'].str.replace('  ','_')"
      ]
    },
    {
      "cell_type": "code",
      "execution_count": 22,
      "id": "08bb3bfc",
      "metadata": {
        "colab": {
          "base_uri": "https://localhost:8080/"
        },
        "id": "08bb3bfc",
        "outputId": "81f83639-9fe2-4b32-ef7f-596324b86f3b"
      },
      "outputs": [
        {
          "output_type": "stream",
          "name": "stdout",
          "text": [
            "['Petrol' 'Diesel' 'CNG' 'LPG' 'Electric' 'CNG_CNG' 'Hybrid' 'Petrol_CNG'\n",
            " 'Petrol_LPG']\n",
            "\n",
            "\n",
            "['Manual' 'Automatic']\n",
            "\n",
            "\n",
            "['First' 'Second' 'Third' 'Fourth' 'UnRegistered Car' '4 or More']\n",
            "\n",
            "\n",
            "['Corporate' 'Individual' 'Commercial Registration']\n"
          ]
        }
      ],
      "source": [
        "print(df['Fuel_Type'].unique())\n",
        "print('\\n')\n",
        "print(df['Transmission'].unique())\n",
        "print('\\n')\n",
        "print(df['Owner'].unique())\n",
        "print('\\n')\n",
        "print(df['Seller_Type'].unique())"
      ]
    },
    {
      "cell_type": "code",
      "execution_count": 23,
      "id": "b69abb31",
      "metadata": {
        "colab": {
          "base_uri": "https://localhost:8080/"
        },
        "id": "b69abb31",
        "outputId": "7ad0f605-3083-4875-aaa9-5461e4310fe1"
      },
      "outputs": [
        {
          "output_type": "stream",
          "name": "stdout",
          "text": [
            "<class 'pandas.core.frame.DataFrame'>\n",
            "RangeIndex: 2059 entries, 0 to 2058\n",
            "Data columns (total 10 columns):\n",
            " #   Column              Non-Null Count  Dtype  \n",
            "---  ------              --------------  -----  \n",
            " 0   Price               2059 non-null   int64  \n",
            " 1   Year                2059 non-null   int64  \n",
            " 2   Kilometer           2059 non-null   int64  \n",
            " 3   Fuel_Type           2059 non-null   object \n",
            " 4   Transmission        2059 non-null   object \n",
            " 5   Owner               2059 non-null   object \n",
            " 6   Seller_Type         2059 non-null   object \n",
            " 7   Engine              2059 non-null   int64  \n",
            " 8   Max_Power           2059 non-null   float64\n",
            " 9   Fuel_Tank_Capacity  2059 non-null   float64\n",
            "dtypes: float64(2), int64(4), object(4)\n",
            "memory usage: 161.0+ KB\n"
          ]
        }
      ],
      "source": [
        "df.info()"
      ]
    },
    {
      "cell_type": "code",
      "execution_count": 24,
      "id": "06bc66d1",
      "metadata": {
        "colab": {
          "base_uri": "https://localhost:8080/",
          "height": 270
        },
        "id": "06bc66d1",
        "outputId": "b582886a-3d68-4ba6-fd26-65279b4f8d22"
      },
      "outputs": [
        {
          "output_type": "execute_result",
          "data": {
            "text/plain": [
              "     Price  Year  Kilometer   Owner  Engine  Max_Power  Fuel_Tank_Capacity  \\\n",
              "0   505000  2017      87150   First    1198       87.0                35.0   \n",
              "1   450000  2014      75000  Second    1248       74.0                42.0   \n",
              "2   220000  2011      67000   First    1197       79.0                35.0   \n",
              "3   799000  2019      37500   First    1197       82.0                37.0   \n",
              "4  1950000  2018      69000   First    2393      148.0                55.0   \n",
              "\n",
              "   Fuel_Type_CNG_CNG  Fuel_Type_Diesel  Fuel_Type_Electric  Fuel_Type_Hybrid  \\\n",
              "0                  0                 0                   0                 0   \n",
              "1                  0                 1                   0                 0   \n",
              "2                  0                 0                   0                 0   \n",
              "3                  0                 0                   0                 0   \n",
              "4                  0                 1                   0                 0   \n",
              "\n",
              "   Fuel_Type_LPG  Fuel_Type_Petrol  Fuel_Type_Petrol_CNG  \\\n",
              "0              0                 1                     0   \n",
              "1              0                 0                     0   \n",
              "2              0                 1                     0   \n",
              "3              0                 1                     0   \n",
              "4              0                 0                     0   \n",
              "\n",
              "   Fuel_Type_Petrol_LPG  Transmission_Manual  Seller_Type_Corporate  \\\n",
              "0                     0                    1                      1   \n",
              "1                     0                    1                      0   \n",
              "2                     0                    1                      0   \n",
              "3                     0                    1                      0   \n",
              "4                     0                    1                      0   \n",
              "\n",
              "   Seller_Type_Individual  \n",
              "0                       0  \n",
              "1                       1  \n",
              "2                       1  \n",
              "3                       1  \n",
              "4                       1  "
            ],
            "text/html": [
              "\n",
              "  <div id=\"df-490aac3b-c652-42e1-9592-97bcf4df422c\">\n",
              "    <div class=\"colab-df-container\">\n",
              "      <div>\n",
              "<style scoped>\n",
              "    .dataframe tbody tr th:only-of-type {\n",
              "        vertical-align: middle;\n",
              "    }\n",
              "\n",
              "    .dataframe tbody tr th {\n",
              "        vertical-align: top;\n",
              "    }\n",
              "\n",
              "    .dataframe thead th {\n",
              "        text-align: right;\n",
              "    }\n",
              "</style>\n",
              "<table border=\"1\" class=\"dataframe\">\n",
              "  <thead>\n",
              "    <tr style=\"text-align: right;\">\n",
              "      <th></th>\n",
              "      <th>Price</th>\n",
              "      <th>Year</th>\n",
              "      <th>Kilometer</th>\n",
              "      <th>Owner</th>\n",
              "      <th>Engine</th>\n",
              "      <th>Max_Power</th>\n",
              "      <th>Fuel_Tank_Capacity</th>\n",
              "      <th>Fuel_Type_CNG_CNG</th>\n",
              "      <th>Fuel_Type_Diesel</th>\n",
              "      <th>Fuel_Type_Electric</th>\n",
              "      <th>Fuel_Type_Hybrid</th>\n",
              "      <th>Fuel_Type_LPG</th>\n",
              "      <th>Fuel_Type_Petrol</th>\n",
              "      <th>Fuel_Type_Petrol_CNG</th>\n",
              "      <th>Fuel_Type_Petrol_LPG</th>\n",
              "      <th>Transmission_Manual</th>\n",
              "      <th>Seller_Type_Corporate</th>\n",
              "      <th>Seller_Type_Individual</th>\n",
              "    </tr>\n",
              "  </thead>\n",
              "  <tbody>\n",
              "    <tr>\n",
              "      <th>0</th>\n",
              "      <td>505000</td>\n",
              "      <td>2017</td>\n",
              "      <td>87150</td>\n",
              "      <td>First</td>\n",
              "      <td>1198</td>\n",
              "      <td>87.0</td>\n",
              "      <td>35.0</td>\n",
              "      <td>0</td>\n",
              "      <td>0</td>\n",
              "      <td>0</td>\n",
              "      <td>0</td>\n",
              "      <td>0</td>\n",
              "      <td>1</td>\n",
              "      <td>0</td>\n",
              "      <td>0</td>\n",
              "      <td>1</td>\n",
              "      <td>1</td>\n",
              "      <td>0</td>\n",
              "    </tr>\n",
              "    <tr>\n",
              "      <th>1</th>\n",
              "      <td>450000</td>\n",
              "      <td>2014</td>\n",
              "      <td>75000</td>\n",
              "      <td>Second</td>\n",
              "      <td>1248</td>\n",
              "      <td>74.0</td>\n",
              "      <td>42.0</td>\n",
              "      <td>0</td>\n",
              "      <td>1</td>\n",
              "      <td>0</td>\n",
              "      <td>0</td>\n",
              "      <td>0</td>\n",
              "      <td>0</td>\n",
              "      <td>0</td>\n",
              "      <td>0</td>\n",
              "      <td>1</td>\n",
              "      <td>0</td>\n",
              "      <td>1</td>\n",
              "    </tr>\n",
              "    <tr>\n",
              "      <th>2</th>\n",
              "      <td>220000</td>\n",
              "      <td>2011</td>\n",
              "      <td>67000</td>\n",
              "      <td>First</td>\n",
              "      <td>1197</td>\n",
              "      <td>79.0</td>\n",
              "      <td>35.0</td>\n",
              "      <td>0</td>\n",
              "      <td>0</td>\n",
              "      <td>0</td>\n",
              "      <td>0</td>\n",
              "      <td>0</td>\n",
              "      <td>1</td>\n",
              "      <td>0</td>\n",
              "      <td>0</td>\n",
              "      <td>1</td>\n",
              "      <td>0</td>\n",
              "      <td>1</td>\n",
              "    </tr>\n",
              "    <tr>\n",
              "      <th>3</th>\n",
              "      <td>799000</td>\n",
              "      <td>2019</td>\n",
              "      <td>37500</td>\n",
              "      <td>First</td>\n",
              "      <td>1197</td>\n",
              "      <td>82.0</td>\n",
              "      <td>37.0</td>\n",
              "      <td>0</td>\n",
              "      <td>0</td>\n",
              "      <td>0</td>\n",
              "      <td>0</td>\n",
              "      <td>0</td>\n",
              "      <td>1</td>\n",
              "      <td>0</td>\n",
              "      <td>0</td>\n",
              "      <td>1</td>\n",
              "      <td>0</td>\n",
              "      <td>1</td>\n",
              "    </tr>\n",
              "    <tr>\n",
              "      <th>4</th>\n",
              "      <td>1950000</td>\n",
              "      <td>2018</td>\n",
              "      <td>69000</td>\n",
              "      <td>First</td>\n",
              "      <td>2393</td>\n",
              "      <td>148.0</td>\n",
              "      <td>55.0</td>\n",
              "      <td>0</td>\n",
              "      <td>1</td>\n",
              "      <td>0</td>\n",
              "      <td>0</td>\n",
              "      <td>0</td>\n",
              "      <td>0</td>\n",
              "      <td>0</td>\n",
              "      <td>0</td>\n",
              "      <td>1</td>\n",
              "      <td>0</td>\n",
              "      <td>1</td>\n",
              "    </tr>\n",
              "  </tbody>\n",
              "</table>\n",
              "</div>\n",
              "      <button class=\"colab-df-convert\" onclick=\"convertToInteractive('df-490aac3b-c652-42e1-9592-97bcf4df422c')\"\n",
              "              title=\"Convert this dataframe to an interactive table.\"\n",
              "              style=\"display:none;\">\n",
              "        \n",
              "  <svg xmlns=\"http://www.w3.org/2000/svg\" height=\"24px\"viewBox=\"0 0 24 24\"\n",
              "       width=\"24px\">\n",
              "    <path d=\"M0 0h24v24H0V0z\" fill=\"none\"/>\n",
              "    <path d=\"M18.56 5.44l.94 2.06.94-2.06 2.06-.94-2.06-.94-.94-2.06-.94 2.06-2.06.94zm-11 1L8.5 8.5l.94-2.06 2.06-.94-2.06-.94L8.5 2.5l-.94 2.06-2.06.94zm10 10l.94 2.06.94-2.06 2.06-.94-2.06-.94-.94-2.06-.94 2.06-2.06.94z\"/><path d=\"M17.41 7.96l-1.37-1.37c-.4-.4-.92-.59-1.43-.59-.52 0-1.04.2-1.43.59L10.3 9.45l-7.72 7.72c-.78.78-.78 2.05 0 2.83L4 21.41c.39.39.9.59 1.41.59.51 0 1.02-.2 1.41-.59l7.78-7.78 2.81-2.81c.8-.78.8-2.07 0-2.86zM5.41 20L4 18.59l7.72-7.72 1.47 1.35L5.41 20z\"/>\n",
              "  </svg>\n",
              "      </button>\n",
              "      \n",
              "  <style>\n",
              "    .colab-df-container {\n",
              "      display:flex;\n",
              "      flex-wrap:wrap;\n",
              "      gap: 12px;\n",
              "    }\n",
              "\n",
              "    .colab-df-convert {\n",
              "      background-color: #E8F0FE;\n",
              "      border: none;\n",
              "      border-radius: 50%;\n",
              "      cursor: pointer;\n",
              "      display: none;\n",
              "      fill: #1967D2;\n",
              "      height: 32px;\n",
              "      padding: 0 0 0 0;\n",
              "      width: 32px;\n",
              "    }\n",
              "\n",
              "    .colab-df-convert:hover {\n",
              "      background-color: #E2EBFA;\n",
              "      box-shadow: 0px 1px 2px rgba(60, 64, 67, 0.3), 0px 1px 3px 1px rgba(60, 64, 67, 0.15);\n",
              "      fill: #174EA6;\n",
              "    }\n",
              "\n",
              "    [theme=dark] .colab-df-convert {\n",
              "      background-color: #3B4455;\n",
              "      fill: #D2E3FC;\n",
              "    }\n",
              "\n",
              "    [theme=dark] .colab-df-convert:hover {\n",
              "      background-color: #434B5C;\n",
              "      box-shadow: 0px 1px 3px 1px rgba(0, 0, 0, 0.15);\n",
              "      filter: drop-shadow(0px 1px 2px rgba(0, 0, 0, 0.3));\n",
              "      fill: #FFFFFF;\n",
              "    }\n",
              "  </style>\n",
              "\n",
              "      <script>\n",
              "        const buttonEl =\n",
              "          document.querySelector('#df-490aac3b-c652-42e1-9592-97bcf4df422c button.colab-df-convert');\n",
              "        buttonEl.style.display =\n",
              "          google.colab.kernel.accessAllowed ? 'block' : 'none';\n",
              "\n",
              "        async function convertToInteractive(key) {\n",
              "          const element = document.querySelector('#df-490aac3b-c652-42e1-9592-97bcf4df422c');\n",
              "          const dataTable =\n",
              "            await google.colab.kernel.invokeFunction('convertToInteractive',\n",
              "                                                     [key], {});\n",
              "          if (!dataTable) return;\n",
              "\n",
              "          const docLinkHtml = 'Like what you see? Visit the ' +\n",
              "            '<a target=\"_blank\" href=https://colab.research.google.com/notebooks/data_table.ipynb>data table notebook</a>'\n",
              "            + ' to learn more about interactive tables.';\n",
              "          element.innerHTML = '';\n",
              "          dataTable['output_type'] = 'display_data';\n",
              "          await google.colab.output.renderOutput(dataTable, element);\n",
              "          const docLink = document.createElement('div');\n",
              "          docLink.innerHTML = docLinkHtml;\n",
              "          element.appendChild(docLink);\n",
              "        }\n",
              "      </script>\n",
              "    </div>\n",
              "  </div>\n",
              "  "
            ]
          },
          "metadata": {},
          "execution_count": 24
        }
      ],
      "source": [
        "# One hot encoding\n",
        "variable=['Fuel_Type','Transmission','Seller_Type']\n",
        "df=pd.get_dummies(data=df,columns=variable,drop_first=True)\n",
        "df.head()"
      ]
    },
    {
      "cell_type": "code",
      "execution_count": 25,
      "id": "502eb871",
      "metadata": {
        "scrolled": true,
        "id": "502eb871"
      },
      "outputs": [],
      "source": [
        "# Label Encoding\n",
        "df['Owner']=df['Owner'].map({'UnRegistered Car':0,'First':1,'Second':2,'Third':3,'Fourth':4,'4 or More':5})"
      ]
    },
    {
      "cell_type": "code",
      "execution_count": 26,
      "id": "30aa6e66",
      "metadata": {
        "scrolled": true,
        "colab": {
          "base_uri": "https://localhost:8080/",
          "height": 270
        },
        "id": "30aa6e66",
        "outputId": "4c359035-949d-4c59-b3c3-0558a5d56217"
      },
      "outputs": [
        {
          "output_type": "execute_result",
          "data": {
            "text/plain": [
              "     Price  Year  Kilometer  Owner  Engine  Max_Power  Fuel_Tank_Capacity  \\\n",
              "0   505000  2017      87150      1    1198       87.0                35.0   \n",
              "1   450000  2014      75000      2    1248       74.0                42.0   \n",
              "2   220000  2011      67000      1    1197       79.0                35.0   \n",
              "3   799000  2019      37500      1    1197       82.0                37.0   \n",
              "4  1950000  2018      69000      1    2393      148.0                55.0   \n",
              "\n",
              "   Fuel_Type_CNG_CNG  Fuel_Type_Diesel  Fuel_Type_Electric  Fuel_Type_Hybrid  \\\n",
              "0                  0                 0                   0                 0   \n",
              "1                  0                 1                   0                 0   \n",
              "2                  0                 0                   0                 0   \n",
              "3                  0                 0                   0                 0   \n",
              "4                  0                 1                   0                 0   \n",
              "\n",
              "   Fuel_Type_LPG  Fuel_Type_Petrol  Fuel_Type_Petrol_CNG  \\\n",
              "0              0                 1                     0   \n",
              "1              0                 0                     0   \n",
              "2              0                 1                     0   \n",
              "3              0                 1                     0   \n",
              "4              0                 0                     0   \n",
              "\n",
              "   Fuel_Type_Petrol_LPG  Transmission_Manual  Seller_Type_Corporate  \\\n",
              "0                     0                    1                      1   \n",
              "1                     0                    1                      0   \n",
              "2                     0                    1                      0   \n",
              "3                     0                    1                      0   \n",
              "4                     0                    1                      0   \n",
              "\n",
              "   Seller_Type_Individual  \n",
              "0                       0  \n",
              "1                       1  \n",
              "2                       1  \n",
              "3                       1  \n",
              "4                       1  "
            ],
            "text/html": [
              "\n",
              "  <div id=\"df-5add29e9-c979-4d82-bafa-01e45cd0b668\">\n",
              "    <div class=\"colab-df-container\">\n",
              "      <div>\n",
              "<style scoped>\n",
              "    .dataframe tbody tr th:only-of-type {\n",
              "        vertical-align: middle;\n",
              "    }\n",
              "\n",
              "    .dataframe tbody tr th {\n",
              "        vertical-align: top;\n",
              "    }\n",
              "\n",
              "    .dataframe thead th {\n",
              "        text-align: right;\n",
              "    }\n",
              "</style>\n",
              "<table border=\"1\" class=\"dataframe\">\n",
              "  <thead>\n",
              "    <tr style=\"text-align: right;\">\n",
              "      <th></th>\n",
              "      <th>Price</th>\n",
              "      <th>Year</th>\n",
              "      <th>Kilometer</th>\n",
              "      <th>Owner</th>\n",
              "      <th>Engine</th>\n",
              "      <th>Max_Power</th>\n",
              "      <th>Fuel_Tank_Capacity</th>\n",
              "      <th>Fuel_Type_CNG_CNG</th>\n",
              "      <th>Fuel_Type_Diesel</th>\n",
              "      <th>Fuel_Type_Electric</th>\n",
              "      <th>Fuel_Type_Hybrid</th>\n",
              "      <th>Fuel_Type_LPG</th>\n",
              "      <th>Fuel_Type_Petrol</th>\n",
              "      <th>Fuel_Type_Petrol_CNG</th>\n",
              "      <th>Fuel_Type_Petrol_LPG</th>\n",
              "      <th>Transmission_Manual</th>\n",
              "      <th>Seller_Type_Corporate</th>\n",
              "      <th>Seller_Type_Individual</th>\n",
              "    </tr>\n",
              "  </thead>\n",
              "  <tbody>\n",
              "    <tr>\n",
              "      <th>0</th>\n",
              "      <td>505000</td>\n",
              "      <td>2017</td>\n",
              "      <td>87150</td>\n",
              "      <td>1</td>\n",
              "      <td>1198</td>\n",
              "      <td>87.0</td>\n",
              "      <td>35.0</td>\n",
              "      <td>0</td>\n",
              "      <td>0</td>\n",
              "      <td>0</td>\n",
              "      <td>0</td>\n",
              "      <td>0</td>\n",
              "      <td>1</td>\n",
              "      <td>0</td>\n",
              "      <td>0</td>\n",
              "      <td>1</td>\n",
              "      <td>1</td>\n",
              "      <td>0</td>\n",
              "    </tr>\n",
              "    <tr>\n",
              "      <th>1</th>\n",
              "      <td>450000</td>\n",
              "      <td>2014</td>\n",
              "      <td>75000</td>\n",
              "      <td>2</td>\n",
              "      <td>1248</td>\n",
              "      <td>74.0</td>\n",
              "      <td>42.0</td>\n",
              "      <td>0</td>\n",
              "      <td>1</td>\n",
              "      <td>0</td>\n",
              "      <td>0</td>\n",
              "      <td>0</td>\n",
              "      <td>0</td>\n",
              "      <td>0</td>\n",
              "      <td>0</td>\n",
              "      <td>1</td>\n",
              "      <td>0</td>\n",
              "      <td>1</td>\n",
              "    </tr>\n",
              "    <tr>\n",
              "      <th>2</th>\n",
              "      <td>220000</td>\n",
              "      <td>2011</td>\n",
              "      <td>67000</td>\n",
              "      <td>1</td>\n",
              "      <td>1197</td>\n",
              "      <td>79.0</td>\n",
              "      <td>35.0</td>\n",
              "      <td>0</td>\n",
              "      <td>0</td>\n",
              "      <td>0</td>\n",
              "      <td>0</td>\n",
              "      <td>0</td>\n",
              "      <td>1</td>\n",
              "      <td>0</td>\n",
              "      <td>0</td>\n",
              "      <td>1</td>\n",
              "      <td>0</td>\n",
              "      <td>1</td>\n",
              "    </tr>\n",
              "    <tr>\n",
              "      <th>3</th>\n",
              "      <td>799000</td>\n",
              "      <td>2019</td>\n",
              "      <td>37500</td>\n",
              "      <td>1</td>\n",
              "      <td>1197</td>\n",
              "      <td>82.0</td>\n",
              "      <td>37.0</td>\n",
              "      <td>0</td>\n",
              "      <td>0</td>\n",
              "      <td>0</td>\n",
              "      <td>0</td>\n",
              "      <td>0</td>\n",
              "      <td>1</td>\n",
              "      <td>0</td>\n",
              "      <td>0</td>\n",
              "      <td>1</td>\n",
              "      <td>0</td>\n",
              "      <td>1</td>\n",
              "    </tr>\n",
              "    <tr>\n",
              "      <th>4</th>\n",
              "      <td>1950000</td>\n",
              "      <td>2018</td>\n",
              "      <td>69000</td>\n",
              "      <td>1</td>\n",
              "      <td>2393</td>\n",
              "      <td>148.0</td>\n",
              "      <td>55.0</td>\n",
              "      <td>0</td>\n",
              "      <td>1</td>\n",
              "      <td>0</td>\n",
              "      <td>0</td>\n",
              "      <td>0</td>\n",
              "      <td>0</td>\n",
              "      <td>0</td>\n",
              "      <td>0</td>\n",
              "      <td>1</td>\n",
              "      <td>0</td>\n",
              "      <td>1</td>\n",
              "    </tr>\n",
              "  </tbody>\n",
              "</table>\n",
              "</div>\n",
              "      <button class=\"colab-df-convert\" onclick=\"convertToInteractive('df-5add29e9-c979-4d82-bafa-01e45cd0b668')\"\n",
              "              title=\"Convert this dataframe to an interactive table.\"\n",
              "              style=\"display:none;\">\n",
              "        \n",
              "  <svg xmlns=\"http://www.w3.org/2000/svg\" height=\"24px\"viewBox=\"0 0 24 24\"\n",
              "       width=\"24px\">\n",
              "    <path d=\"M0 0h24v24H0V0z\" fill=\"none\"/>\n",
              "    <path d=\"M18.56 5.44l.94 2.06.94-2.06 2.06-.94-2.06-.94-.94-2.06-.94 2.06-2.06.94zm-11 1L8.5 8.5l.94-2.06 2.06-.94-2.06-.94L8.5 2.5l-.94 2.06-2.06.94zm10 10l.94 2.06.94-2.06 2.06-.94-2.06-.94-.94-2.06-.94 2.06-2.06.94z\"/><path d=\"M17.41 7.96l-1.37-1.37c-.4-.4-.92-.59-1.43-.59-.52 0-1.04.2-1.43.59L10.3 9.45l-7.72 7.72c-.78.78-.78 2.05 0 2.83L4 21.41c.39.39.9.59 1.41.59.51 0 1.02-.2 1.41-.59l7.78-7.78 2.81-2.81c.8-.78.8-2.07 0-2.86zM5.41 20L4 18.59l7.72-7.72 1.47 1.35L5.41 20z\"/>\n",
              "  </svg>\n",
              "      </button>\n",
              "      \n",
              "  <style>\n",
              "    .colab-df-container {\n",
              "      display:flex;\n",
              "      flex-wrap:wrap;\n",
              "      gap: 12px;\n",
              "    }\n",
              "\n",
              "    .colab-df-convert {\n",
              "      background-color: #E8F0FE;\n",
              "      border: none;\n",
              "      border-radius: 50%;\n",
              "      cursor: pointer;\n",
              "      display: none;\n",
              "      fill: #1967D2;\n",
              "      height: 32px;\n",
              "      padding: 0 0 0 0;\n",
              "      width: 32px;\n",
              "    }\n",
              "\n",
              "    .colab-df-convert:hover {\n",
              "      background-color: #E2EBFA;\n",
              "      box-shadow: 0px 1px 2px rgba(60, 64, 67, 0.3), 0px 1px 3px 1px rgba(60, 64, 67, 0.15);\n",
              "      fill: #174EA6;\n",
              "    }\n",
              "\n",
              "    [theme=dark] .colab-df-convert {\n",
              "      background-color: #3B4455;\n",
              "      fill: #D2E3FC;\n",
              "    }\n",
              "\n",
              "    [theme=dark] .colab-df-convert:hover {\n",
              "      background-color: #434B5C;\n",
              "      box-shadow: 0px 1px 3px 1px rgba(0, 0, 0, 0.15);\n",
              "      filter: drop-shadow(0px 1px 2px rgba(0, 0, 0, 0.3));\n",
              "      fill: #FFFFFF;\n",
              "    }\n",
              "  </style>\n",
              "\n",
              "      <script>\n",
              "        const buttonEl =\n",
              "          document.querySelector('#df-5add29e9-c979-4d82-bafa-01e45cd0b668 button.colab-df-convert');\n",
              "        buttonEl.style.display =\n",
              "          google.colab.kernel.accessAllowed ? 'block' : 'none';\n",
              "\n",
              "        async function convertToInteractive(key) {\n",
              "          const element = document.querySelector('#df-5add29e9-c979-4d82-bafa-01e45cd0b668');\n",
              "          const dataTable =\n",
              "            await google.colab.kernel.invokeFunction('convertToInteractive',\n",
              "                                                     [key], {});\n",
              "          if (!dataTable) return;\n",
              "\n",
              "          const docLinkHtml = 'Like what you see? Visit the ' +\n",
              "            '<a target=\"_blank\" href=https://colab.research.google.com/notebooks/data_table.ipynb>data table notebook</a>'\n",
              "            + ' to learn more about interactive tables.';\n",
              "          element.innerHTML = '';\n",
              "          dataTable['output_type'] = 'display_data';\n",
              "          await google.colab.output.renderOutput(dataTable, element);\n",
              "          const docLink = document.createElement('div');\n",
              "          docLink.innerHTML = docLinkHtml;\n",
              "          element.appendChild(docLink);\n",
              "        }\n",
              "      </script>\n",
              "    </div>\n",
              "  </div>\n",
              "  "
            ]
          },
          "metadata": {},
          "execution_count": 26
        }
      ],
      "source": [
        "df.head()"
      ]
    },
    {
      "cell_type": "markdown",
      "id": "22520d1e",
      "metadata": {
        "id": "22520d1e"
      },
      "source": [
        "## Model Testing"
      ]
    },
    {
      "cell_type": "code",
      "execution_count": 27,
      "id": "9ac2f60a",
      "metadata": {
        "id": "9ac2f60a"
      },
      "outputs": [],
      "source": [
        "# Seprating our dataset into independent and dependent  feature\n",
        "X=df.drop('Price',axis=1)\n",
        "y=df['Price']"
      ]
    },
    {
      "cell_type": "code",
      "execution_count": 28,
      "id": "3c262d44",
      "metadata": {
        "scrolled": true,
        "colab": {
          "base_uri": "https://localhost:8080/"
        },
        "id": "3c262d44",
        "outputId": "3b2f0c5e-aeec-4332-fcd3-3140b641e662"
      },
      "outputs": [
        {
          "output_type": "execute_result",
          "data": {
            "text/plain": [
              "Index(['Year', 'Kilometer', 'Owner', 'Engine', 'Max_Power',\n",
              "       'Fuel_Tank_Capacity', 'Fuel_Type_CNG_CNG', 'Fuel_Type_Diesel',\n",
              "       'Fuel_Type_Electric', 'Fuel_Type_Hybrid', 'Fuel_Type_LPG',\n",
              "       'Fuel_Type_Petrol', 'Fuel_Type_Petrol_CNG', 'Fuel_Type_Petrol_LPG',\n",
              "       'Transmission_Manual', 'Seller_Type_Corporate',\n",
              "       'Seller_Type_Individual'],\n",
              "      dtype='object')"
            ]
          },
          "metadata": {},
          "execution_count": 28
        }
      ],
      "source": [
        "X.columns"
      ]
    },
    {
      "cell_type": "code",
      "execution_count": 29,
      "id": "0ecc7de2",
      "metadata": {
        "colab": {
          "base_uri": "https://localhost:8080/"
        },
        "id": "0ecc7de2",
        "outputId": "b307e204-3d80-4f73-f6d9-e0cc5284686e"
      },
      "outputs": [
        {
          "output_type": "stream",
          "name": "stdout",
          "text": [
            "[1.14656756e-01 5.25548673e-02 1.90729334e-02 8.53496825e-02\n",
            " 4.50976099e-01 1.06295852e-01 2.32326248e-08 4.77802070e-03\n",
            " 2.75625892e-04 6.38562967e-03 3.86554516e-07 1.03797322e-02\n",
            " 4.70928466e-07 2.92650310e-07 1.44822488e-01 2.11459902e-03\n",
            " 2.33654090e-03]\n"
          ]
        }
      ],
      "source": [
        "# Feature Importance\n",
        "from sklearn.ensemble import ExtraTreesRegressor\n",
        "model = ExtraTreesRegressor()\n",
        "model.fit(X,y)\n",
        "print(model.feature_importances_)"
      ]
    },
    {
      "cell_type": "code",
      "execution_count": 30,
      "id": "5a295341",
      "metadata": {
        "scrolled": false,
        "colab": {
          "base_uri": "https://localhost:8080/",
          "height": 430
        },
        "id": "5a295341",
        "outputId": "66d4c57c-d76e-4b06-e65a-150db13fdaaf"
      },
      "outputs": [
        {
          "output_type": "display_data",
          "data": {
            "text/plain": [
              "<Figure size 640x480 with 1 Axes>"
            ],
            "image/png": "[encoded data removed]"
          },
          "metadata": {}
        }
      ],
      "source": [
        "#plot graph of feature importances for better visualization\n",
        "feat_importances = pd.Series(model.feature_importances_, index=X.columns)\n",
        "feat_importances.nlargest(10).plot(kind='barh')\n",
        "plt.show()"
      ]
    },
    {
      "cell_type": "code",
      "execution_count": 31,
      "id": "32f55861",
      "metadata": {
        "id": "32f55861"
      },
      "outputs": [],
      "source": [
        "from sklearn.model_selection import train_test_split\n",
        "X_train,X_test,y_train,y_test = train_test_split(X,y,test_size=0.30,random_state=100)"
      ]
    },
    {
      "cell_type": "code",
      "execution_count": 32,
      "id": "c8268fc5",
      "metadata": {
        "scrolled": true,
        "colab": {
          "base_uri": "https://localhost:8080/",
          "height": 74
        },
        "id": "c8268fc5",
        "outputId": "48a3f132-a01b-4ffb-9207-64c8f34a9b25"
      },
      "outputs": [
        {
          "output_type": "execute_result",
          "data": {
            "text/plain": [
              "RandomForestRegressor()"
            ],
            "text/html": [
              "<style>#sk-container-id-1 {color: black;background-color: white;}#sk-container-id-1 pre{padding: 0;}#sk-container-id-1 div.sk-toggleable {background-color: white;}#sk-container-id-1 label.sk-toggleable__label {cursor: pointer;display: block;width: 100%;margin-bottom: 0;padding: 0.3em;box-sizing: border-box;text-align: center;}#sk-container-id-1 label.sk-toggleable__label-arrow:before {content: \"▸\";float: left;margin-right: 0.25em;color: #696969;}#sk-container-id-1 label.sk-toggleable__label-arrow:hover:before {color: black;}#sk-container-id-1 div.sk-estimator:hover label.sk-toggleable__label-arrow:before {color: black;}#sk-container-id-1 div.sk-toggleable__content {max-height: 0;max-width: 0;overflow: hidden;text-align: left;background-color: #f0f8ff;}#sk-container-id-1 div.sk-toggleable__content pre {margin: 0.2em;color: black;border-radius: 0.25em;background-color: #f0f8ff;}#sk-container-id-1 input.sk-toggleable__control:checked~div.sk-toggleable__content {max-height: 200px;max-width: 100%;overflow: auto;}#sk-container-id-1 input.sk-toggleable__control:checked~label.sk-toggleable__label-arrow:before {content: \"▾\";}#sk-container-id-1 div.sk-estimator input.sk-toggleable__control:checked~label.sk-toggleable__label {background-color: #d4ebff;}#sk-container-id-1 div.sk-label input.sk-toggleable__control:checked~label.sk-toggleable__label {background-color: #d4ebff;}#sk-container-id-1 input.sk-hidden--visually {border: 0;clip: rect(1px 1px 1px 1px);clip: rect(1px, 1px, 1px, 1px);height: 1px;margin: -1px;overflow: hidden;padding: 0;position: absolute;width: 1px;}#sk-container-id-1 div.sk-estimator {font-family: monospace;background-color: #f0f8ff;border: 1px dotted black;border-radius: 0.25em;box-sizing: border-box;margin-bottom: 0.5em;}#sk-container-id-1 div.sk-estimator:hover {background-color: #d4ebff;}#sk-container-id-1 div.sk-parallel-item::after {content: \"\";width: 100%;border-bottom: 1px solid gray;flex-grow: 1;}#sk-container-id-1 div.sk-label:hover label.sk-toggleable__label {background-color: #d4ebff;}#sk-container-id-1 div.sk-serial::before {content: \"\";position: absolute;border-left: 1px solid gray;box-sizing: border-box;top: 0;bottom: 0;left: 50%;z-index: 0;}#sk-container-id-1 div.sk-serial {display: flex;flex-direction: column;align-items: center;background-color: white;padding-right: 0.2em;padding-left: 0.2em;position: relative;}#sk-container-id-1 div.sk-item {position: relative;z-index: 1;}#sk-container-id-1 div.sk-parallel {display: flex;align-items: stretch;justify-content: center;background-color: white;position: relative;}#sk-container-id-1 div.sk-item::before, #sk-container-id-1 div.sk-parallel-item::before {content: \"\";position: absolute;border-left: 1px solid gray;box-sizing: border-box;top: 0;bottom: 0;left: 50%;z-index: -1;}#sk-container-id-1 div.sk-parallel-item {display: flex;flex-direction: column;z-index: 1;position: relative;background-color: white;}#sk-container-id-1 div.sk-parallel-item:first-child::after {align-self: flex-end;width: 50%;}#sk-container-id-1 div.sk-parallel-item:last-child::after {align-self: flex-start;width: 50%;}#sk-container-id-1 div.sk-parallel-item:only-child::after {width: 0;}#sk-container-id-1 div.sk-dashed-wrapped {border: 1px dashed gray;margin: 0 0.4em 0.5em 0.4em;box-sizing: border-box;padding-bottom: 0.4em;background-color: white;}#sk-container-id-1 div.sk-label label {font-family: monospace;font-weight: bold;display: inline-block;line-height: 1.2em;}#sk-container-id-1 div.sk-label-container {text-align: center;}#sk-container-id-1 div.sk-container {/* jupyter's `normalize.less` sets `[hidden] { display: none; }` but bootstrap.min.css set `[hidden] { display: none !important; }` so we also need the `!important` here to be able to override the default hidden behavior on the sphinx rendered scikit-learn.org. See: https://github.com/scikit-learn/scikit-learn/issues/21755 */display: inline-block !important;position: relative;}#sk-container-id-1 div.sk-text-repr-fallback {display: none;}</style><div id=\"sk-container-id-1\" class=\"sk-top-container\"><div class=\"sk-text-repr-fallback\"><pre>RandomForestRegressor()</pre><b>In a Jupyter environment, please rerun this cell to show the HTML representation or trust the notebook. <br />On GitHub, the HTML representation is unable to render, please try loading this page with nbviewer.org.</b></div><div class=\"sk-container\" hidden><div class=\"sk-item\"><div class=\"sk-estimator sk-toggleable\"><input class=\"sk-toggleable__control sk-hidden--visually\" id=\"sk-estimator-id-1\" type=\"checkbox\" checked><label for=\"sk-estimator-id-1\" class=\"sk-toggleable__label sk-toggleable__label-arrow\">RandomForestRegressor</label><div class=\"sk-toggleable__content\"><pre>RandomForestRegressor()</pre></div></div></div></div></div>"
            ]
          },
          "metadata": {},
          "execution_count": 32
        }
      ],
      "source": [
        "from sklearn.ensemble import RandomForestRegressor\n",
        "rf=RandomForestRegressor()\n",
        "rf.fit(X_train,y_train)"
      ]
    },
    {
      "cell_type": "code",
      "execution_count": 33,
      "id": "29214e01",
      "metadata": {
        "colab": {
          "base_uri": "https://localhost:8080/"
        },
        "id": "29214e01",
        "outputId": "4b105deb-e510-4a18-b7b4-48558e2cc9ba"
      },
      "outputs": [
        {
          "output_type": "execute_result",
          "data": {
            "text/plain": [
              "0.8532205046054621"
            ]
          },
          "metadata": {},
          "execution_count": 33
        }
      ],
      "source": [
        "from sklearn.model_selection import cross_val_score\n",
        "score1=cross_val_score(rf,X_train,y_train,cv=5,scoring='r2')\n",
        "score1.mean()"
      ]
    },
    {
      "cell_type": "code",
      "execution_count": 34,
      "id": "0a6d9525",
      "metadata": {
        "colab": {
          "base_uri": "https://localhost:8080/"
        },
        "id": "0a6d9525",
        "outputId": "700c5b0c-51f9-4a2a-9924-d5366f4a6c8c"
      },
      "outputs": [
        {
          "output_type": "execute_result",
          "data": {
            "text/plain": [
              "0.9802831911518763"
            ]
          },
          "metadata": {},
          "execution_count": 34
        }
      ],
      "source": [
        "rf.score(X_train,y_train)"
      ]
    },
    {
      "cell_type": "markdown",
      "id": "cf92bb51",
      "metadata": {
        "id": "cf92bb51"
      },
      "source": [
        "### Hyperparameter Tuning"
      ]
    },
    {
      "cell_type": "code",
      "execution_count": 35,
      "id": "7c28d089",
      "metadata": {
        "scrolled": true,
        "colab": {
          "base_uri": "https://localhost:8080/"
        },
        "id": "7c28d089",
        "outputId": "07a909f0-da56-4c84-cde8-d3a53c5e13b0"
      },
      "outputs": [
        {
          "output_type": "stream",
          "name": "stdout",
          "text": [
            "{'n_estimators': [100, 200, 300, 400, 500, 600, 700, 800, 900, 1000, 1100, 1200], 'max_depth': [5, 10, 15, 20, 25, 30], 'min_samples_split': [2, 5, 10, 15, 100], 'min_samples_leaf': [1, 2, 5, 10]}\n"
          ]
        }
      ],
      "source": [
        "# Number of trees in random forest\n",
        "n_estimators = [int(x) for x in np.linspace(start = 100, stop = 1200, num = 12)]\n",
        "# Maximum number of levels in tree\n",
        "max_depth = [int(x) for x in np.linspace(5, 30, num = 6)]\n",
        "# max_depth.append(None)\n",
        "# Minimum number of samples required to split a node\n",
        "min_samples_split = [2, 5, 10, 15, 100]\n",
        "# Minimum number of samples required at each leaf node\n",
        "min_samples_leaf = [1, 2, 5, 10]\n",
        "# Create the random grid\n",
        "random_grid = {'n_estimators': n_estimators,\n",
        "               'max_depth': max_depth,\n",
        "               'min_samples_split': min_samples_split,\n",
        "               'min_samples_leaf': min_samples_leaf}\n",
        "\n",
        "print(random_grid)"
      ]
    },
    {
      "cell_type": "code",
      "execution_count": 36,
      "id": "4dc9fe1c",
      "metadata": {
        "colab": {
          "base_uri": "https://localhost:8080/",
          "height": 135
        },
        "id": "4dc9fe1c",
        "outputId": "346f9205-9499-456f-c05b-76000d9350c5"
      },
      "outputs": [
        {
          "output_type": "stream",
          "name": "stdout",
          "text": [
            "Fitting 5 folds for each of 10 candidates, totalling 50 fits\n"
          ]
        },
        {
          "output_type": "execute_result",
          "data": {
            "text/plain": [
              "RandomizedSearchCV(cv=5, estimator=RandomForestRegressor(), n_jobs=1,\n",
              "                   param_distributions={'max_depth': [5, 10, 15, 20, 25, 30],\n",
              "                                        'min_samples_leaf': [1, 2, 5, 10],\n",
              "                                        'min_samples_split': [2, 5, 10, 15,\n",
              "                                                              100],\n",
              "                                        'n_estimators': [100, 200, 300, 400,\n",
              "                                                         500, 600, 700, 800,\n",
              "                                                         900, 1000, 1100,\n",
              "                                                         1200]},\n",
              "                   scoring='r2', verbose=1)"
            ],
            "text/html": [
              "<style>#sk-container-id-2 {color: black;background-color: white;}#sk-container-id-2 pre{padding: 0;}#sk-container-id-2 div.sk-toggleable {background-color: white;}#sk-container-id-2 label.sk-toggleable__label {cursor: pointer;display: block;width: 100%;margin-bottom: 0;padding: 0.3em;box-sizing: border-box;text-align: center;}#sk-container-id-2 label.sk-toggleable__label-arrow:before {content: \"▸\";float: left;margin-right: 0.25em;color: #696969;}#sk-container-id-2 label.sk-toggleable__label-arrow:hover:before {color: black;}#sk-container-id-2 div.sk-estimator:hover label.sk-toggleable__label-arrow:before {color: black;}#sk-container-id-2 div.sk-toggleable__content {max-height: 0;max-width: 0;overflow: hidden;text-align: left;background-color: #f0f8ff;}#sk-container-id-2 div.sk-toggleable__content pre {margin: 0.2em;color: black;border-radius: 0.25em;background-color: #f0f8ff;}#sk-container-id-2 input.sk-toggleable__control:checked~div.sk-toggleable__content {max-height: 200px;max-width: 100%;overflow: auto;}#sk-container-id-2 input.sk-toggleable__control:checked~label.sk-toggleable__label-arrow:before {content: \"▾\";}#sk-container-id-2 div.sk-estimator input.sk-toggleable__control:checked~label.sk-toggleable__label {background-color: #d4ebff;}#sk-container-id-2 div.sk-label input.sk-toggleable__control:checked~label.sk-toggleable__label {background-color: #d4ebff;}#sk-container-id-2 input.sk-hidden--visually {border: 0;clip: rect(1px 1px 1px 1px);clip: rect(1px, 1px, 1px, 1px);height: 1px;margin: -1px;overflow: hidden;padding: 0;position: absolute;width: 1px;}#sk-container-id-2 div.sk-estimator {font-family: monospace;background-color: #f0f8ff;border: 1px dotted black;border-radius: 0.25em;box-sizing: border-box;margin-bottom: 0.5em;}#sk-container-id-2 div.sk-estimator:hover {background-color: #d4ebff;}#sk-container-id-2 div.sk-parallel-item::after {content: \"\";width: 100%;border-bottom: 1px solid gray;flex-grow: 1;}#sk-container-id-2 div.sk-label:hover label.sk-toggleable__label {background-color: #d4ebff;}#sk-container-id-2 div.sk-serial::before {content: \"\";position: absolute;border-left: 1px solid gray;box-sizing: border-box;top: 0;bottom: 0;left: 50%;z-index: 0;}#sk-container-id-2 div.sk-serial {display: flex;flex-direction: column;align-items: center;background-color: white;padding-right: 0.2em;padding-left: 0.2em;position: relative;}#sk-container-id-2 div.sk-item {position: relative;z-index: 1;}#sk-container-id-2 div.sk-parallel {display: flex;align-items: stretch;justify-content: center;background-color: white;position: relative;}#sk-container-id-2 div.sk-item::before, #sk-container-id-2 div.sk-parallel-item::before {content: \"\";position: absolute;border-left: 1px solid gray;box-sizing: border-box;top: 0;bottom: 0;left: 50%;z-index: -1;}#sk-container-id-2 div.sk-parallel-item {display: flex;flex-direction: column;z-index: 1;position: relative;background-color: white;}#sk-container-id-2 div.sk-parallel-item:first-child::after {align-self: flex-end;width: 50%;}#sk-container-id-2 div.sk-parallel-item:last-child::after {align-self: flex-start;width: 50%;}#sk-container-id-2 div.sk-parallel-item:only-child::after {width: 0;}#sk-container-id-2 div.sk-dashed-wrapped {border: 1px dashed gray;margin: 0 0.4em 0.5em 0.4em;box-sizing: border-box;padding-bottom: 0.4em;background-color: white;}#sk-container-id-2 div.sk-label label {font-family: monospace;font-weight: bold;display: inline-block;line-height: 1.2em;}#sk-container-id-2 div.sk-label-container {text-align: center;}#sk-container-id-2 div.sk-container {/* jupyter's `normalize.less` sets `[hidden] { display: none; }` but bootstrap.min.css set `[hidden] { display: none !important; }` so we also need the `!important` here to be able to override the default hidden behavior on the sphinx rendered scikit-learn.org. See: https://github.com/scikit-learn/scikit-learn/issues/21755 */display: inline-block !important;position: relative;}#sk-container-id-2 div.sk-text-repr-fallback {display: none;}</style><div id=\"sk-container-id-2\" class=\"sk-top-container\"><div class=\"sk-text-repr-fallback\"><pre>RandomizedSearchCV(cv=5, estimator=RandomForestRegressor(), n_jobs=1,\n",
              "                   param_distributions={&#x27;max_depth&#x27;: [5, 10, 15, 20, 25, 30],\n",
              "                                        &#x27;min_samples_leaf&#x27;: [1, 2, 5, 10],\n",
              "                                        &#x27;min_samples_split&#x27;: [2, 5, 10, 15,\n",
              "                                                              100],\n",
              "                                        &#x27;n_estimators&#x27;: [100, 200, 300, 400,\n",
              "                                                         500, 600, 700, 800,\n",
              "                                                         900, 1000, 1100,\n",
              "                                                         1200]},\n",
              "                   scoring=&#x27;r2&#x27;, verbose=1)</pre><b>In a Jupyter environment, please rerun this cell to show the HTML representation or trust the notebook. <br />On GitHub, the HTML representation is unable to render, please try loading this page with nbviewer.org.</b></div><div class=\"sk-container\" hidden><div class=\"sk-item sk-dashed-wrapped\"><div class=\"sk-label-container\"><div class=\"sk-label sk-toggleable\"><input class=\"sk-toggleable__control sk-hidden--visually\" id=\"sk-estimator-id-2\" type=\"checkbox\" ><label for=\"sk-estimator-id-2\" class=\"sk-toggleable__label sk-toggleable__label-arrow\">RandomizedSearchCV</label><div class=\"sk-toggleable__content\"><pre>RandomizedSearchCV(cv=5, estimator=RandomForestRegressor(), n_jobs=1,\n",
              "                   param_distributions={&#x27;max_depth&#x27;: [5, 10, 15, 20, 25, 30],\n",
              "                                        &#x27;min_samples_leaf&#x27;: [1, 2, 5, 10],\n",
              "                                        &#x27;min_samples_split&#x27;: [2, 5, 10, 15,\n",
              "                                                              100],\n",
              "                                        &#x27;n_estimators&#x27;: [100, 200, 300, 400,\n",
              "                                                         500, 600, 700, 800,\n",
              "                                                         900, 1000, 1100,\n",
              "                                                         1200]},\n",
              "                   scoring=&#x27;r2&#x27;, verbose=1)</pre></div></div></div><div class=\"sk-parallel\"><div class=\"sk-parallel-item\"><div class=\"sk-item\"><div class=\"sk-label-container\"><div class=\"sk-label sk-toggleable\"><input class=\"sk-toggleable__control sk-hidden--visually\" id=\"sk-estimator-id-3\" type=\"checkbox\" ><label for=\"sk-estimator-id-3\" class=\"sk-toggleable__label sk-toggleable__label-arrow\">estimator: RandomForestRegressor</label><div class=\"sk-toggleable__content\"><pre>RandomForestRegressor()</pre></div></div></div><div class=\"sk-serial\"><div class=\"sk-item\"><div class=\"sk-estimator sk-toggleable\"><input class=\"sk-toggleable__control sk-hidden--visually\" id=\"sk-estimator-id-4\" type=\"checkbox\" ><label for=\"sk-estimator-id-4\" class=\"sk-toggleable__label sk-toggleable__label-arrow\">RandomForestRegressor</label><div class=\"sk-toggleable__content\"><pre>RandomForestRegressor()</pre></div></div></div></div></div></div></div></div></div></div>"
            ]
          },
          "metadata": {},
          "execution_count": 36
        }
      ],
      "source": [
        "from sklearn.model_selection import GridSearchCV,RandomizedSearchCV\n",
        "rf_random = RandomizedSearchCV(estimator = rf, param_distributions = random_grid,scoring='r2', n_iter = 10, cv = 5, verbose=1, n_jobs = 1)\n",
        "# rf_random = GridSearchCV(estimator = rf, param_grid = random_grid,scoring='r2', cv = 5, verbose=1, n_jobs = 1)\n",
        "rf_random.fit(X_train,y_train)"
      ]
    },
    {
      "cell_type": "code",
      "execution_count": 38,
      "id": "3fd0f825",
      "metadata": {
        "id": "3fd0f825"
      },
      "outputs": [],
      "source": [
        "pred=rf_random.predict(X_test)"
      ]
    },
    {
      "cell_type": "code",
      "execution_count": 39,
      "id": "6f78651d",
      "metadata": {
        "colab": {
          "base_uri": "https://localhost:8080/",
          "height": 498
        },
        "id": "6f78651d",
        "outputId": "16722fa7-ada1-44a0-9252-477a6db541c3"
      },
      "outputs": [
        {
          "output_type": "execute_result",
          "data": {
            "text/plain": [
              "<Axes: xlabel='Price', ylabel='Density'>"
            ]
          },
          "metadata": {},
          "execution_count": 39
        },
        {
          "output_type": "display_data",
          "data": {
            "text/plain": [
              "<Figure size 500x500 with 1 Axes>"
            ],
            "image/png": "[encoded data removed]"
          },
          "metadata": {}
        }
      ],
      "source": [
        "plt.figure(figsize=(5,5))\n",
        "sns.distplot(y_test-pred)"
      ]
    },
    {
      "cell_type": "code",
      "execution_count": 40,
      "id": "f8b91b5d",
      "metadata": {
        "colab": {
          "base_uri": "https://localhost:8080/",
          "height": 497
        },
        "id": "f8b91b5d",
        "outputId": "cd44ed22-a51e-4aa4-c609-e51737e92a83"
      },
      "outputs": [
        {
          "output_type": "execute_result",
          "data": {
            "text/plain": [
              "<matplotlib.collections.PathCollection at 0x7f2be2c22880>"
            ]
          },
          "metadata": {},
          "execution_count": 40
        },
        {
          "output_type": "display_data",
          "data": {
            "text/plain": [
              "<Figure size 500x500 with 1 Axes>"
            ],
            "image/png": "[encoded data removed]"
          },
          "metadata": {}
        }
      ],
      "source": [
        "plt.figure(figsize=(5,5))\n",
        "plt.scatter(y_test,pred)"
      ]
    },
    {
      "cell_type": "code",
      "execution_count": 41,
      "id": "40ac6fe2",
      "metadata": {
        "colab": {
          "base_uri": "https://localhost:8080/"
        },
        "id": "40ac6fe2",
        "outputId": "7dc3277e-020f-49f9-9fbb-4efc9120bfa4"
      },
      "outputs": [
        {
          "output_type": "stream",
          "name": "stdout",
          "text": [
            "0.7315190898276779\n"
          ]
        }
      ],
      "source": [
        "from sklearn.metrics import r2_score\n",
        "print(r2_score(pred,y_test))"
      ]
    },
    {
      "cell_type": "code",
      "execution_count": 42,
      "id": "4f75f424",
      "metadata": {
        "id": "4f75f424"
      },
      "outputs": [],
      "source": [
        "import pickle\n",
        "# open a file, where you want to store the data\n",
        "file = open('test.pkl', 'wb')\n",
        "\n",
        "# dump information to that file\n",
        "pickle.dump(rf, file)\n",
        "file.close()"
      ]
    },
    {
      "cell_type": "code",
      "execution_count": 43,
      "id": "0a708375",
      "metadata": {
        "colab": {
          "base_uri": "https://localhost:8080/"
        },
        "id": "0a708375",
        "outputId": "ecf71270-25d5-4978-a056-e390d0d0c816"
      },
      "outputs": [
        {
          "output_type": "execute_result",
          "data": {
            "text/plain": [
              "0.8191425325262027"
            ]
          },
          "metadata": {},
          "execution_count": 43
        }
      ],
      "source": [
        "mymodel = open('test.pkl','rb')\n",
        "boosting = pickle.load(mymodel)\n",
        "myprediction = boosting.predict(X_test)\n",
        "r2_score(y_test, myprediction)"
      ]
    },
    {
      "cell_type": "code",
      "execution_count": null,
      "id": "cc90099e",
      "metadata": {
        "id": "cc90099e"
      },
      "outputs": [],
      "source": []
    }
  ],
  "metadata": {
    "kernelspec": {
      "display_name": "Python 3 (ipykernel)",
      "language": "python",
      "name": "python3"
    },
    "language_info": {
      "codemirror_mode": {
        "name": "ipython",
        "version": 3
      },
      "file_extension": ".py",
      "mimetype": "text/x-python",
      "name": "python",
      "nbconvert_exporter": "python",
      "pygments_lexer": "ipython3",
      "version": "3.9.16"
    },
    "colab": {
      "provenance": []
    },
    "accelerator": "TPU",
    "gpuClass": "standard"
  },
  "nbformat": 4,
  "nbformat_minor": 5
}